{
 "cells": [
  {
   "cell_type": "markdown",
   "metadata": {
    "id": "U_IDhviRpBQb"
   },
   "source": [
    "# Vision - Binary Image Classification\n",
    "\n",
    "By [Akshaj Verma](https://akshajverma.com)\n",
    "\n",
    "This notebook takes you through the implementation of binary image classification with CNNs using the hot-dog/not-dog dataset on PyTorch."
   ]
  },
  {
   "cell_type": "code",
   "execution_count": 221,
   "metadata": {
    "colab": {
     "base_uri": "https://localhost:8080/",
     "height": 238
    },
    "executionInfo": {
     "elapsed": 1673,
     "status": "ok",
     "timestamp": 1623607158428,
     "user": {
      "displayName": "Gonzalo Diez Puebla",
      "photoUrl": "https://lh3.googleusercontent.com/a-/AOh14GiqVinzqmrGGZD4kob8EyBM4_1H8x3A24vYe6NR=s64",
      "userId": "04350791120363313118"
     },
     "user_tz": -120
    },
    "id": "wUCfKxr4L3lM",
    "outputId": "7e9cd47f-806a-464b-8e7d-8a82030189fb"
   },
   "outputs": [
    {
     "name": "stdout",
     "output_type": "stream",
     "text": [
      "Requirement already satisfied: mlxtend in /opt/conda/lib/python3.7/site-packages (0.18.0)\n"
     ]
    }
   ],
   "source": [
    "import mlxtend\n",
    "!pip install mlxtend --upgrade --no-deps"
   ]
  },
  {
   "cell_type": "code",
   "execution_count": 222,
   "metadata": {
    "executionInfo": {
     "elapsed": 3677,
     "status": "ok",
     "timestamp": 1623607162095,
     "user": {
      "displayName": "Gonzalo Diez Puebla",
      "photoUrl": "https://lh3.googleusercontent.com/a-/AOh14GiqVinzqmrGGZD4kob8EyBM4_1H8x3A24vYe6NR=s64",
      "userId": "04350791120363313118"
     },
     "user_tz": -120
    },
    "id": "p79SiQlqpBQe"
   },
   "outputs": [],
   "source": [
    "import os\n",
    "import glob\n",
    "import shutil\n",
    "\n",
    "import numpy as np\n",
    "import pandas as pd\n",
    "import seaborn as sns\n",
    "from tqdm.notebook import tqdm\n",
    "import matplotlib.pyplot as plt\n",
    "\n",
    "\n",
    "import torch\n",
    "import torchvision\n",
    "import torch.nn as nn\n",
    "import torch.optim as optim\n",
    "import torch.nn.functional as F\n",
    "from torchvision import transforms, utils, datasets\n",
    "from torch.utils.data import Dataset, DataLoader, SubsetRandomSampler\n",
    "\n",
    "from sklearn import metrics\n",
    "from mlxtend.plotting import plot_confusion_matrix\n",
    "from sklearn.metrics import classification_report, confusion_matrix"
   ]
  },
  {
   "cell_type": "code",
   "execution_count": 223,
   "metadata": {
    "colab": {
     "base_uri": "https://localhost:8080/"
    },
    "executionInfo": {
     "elapsed": 13,
     "status": "ok",
     "timestamp": 1623607162099,
     "user": {
      "displayName": "Gonzalo Diez Puebla",
      "photoUrl": "https://lh3.googleusercontent.com/a-/AOh14GiqVinzqmrGGZD4kob8EyBM4_1H8x3A24vYe6NR=s64",
      "userId": "04350791120363313118"
     },
     "user_tz": -120
    },
    "id": "Vvpbf7IlpBQf",
    "outputId": "e893093e-b7e5-4dc8-f862-fb6d1a090d49"
   },
   "outputs": [
    {
     "data": {
      "text/plain": [
       "<torch._C.Generator at 0x7f037a62cf70>"
      ]
     },
     "execution_count": 223,
     "metadata": {},
     "output_type": "execute_result"
    }
   ],
   "source": [
    "np.random.seed(0)\n",
    "torch.manual_seed(0)"
   ]
  },
  {
   "cell_type": "code",
   "execution_count": 224,
   "metadata": {
    "executionInfo": {
     "elapsed": 7,
     "status": "ok",
     "timestamp": 1623607162100,
     "user": {
      "displayName": "Gonzalo Diez Puebla",
      "photoUrl": "https://lh3.googleusercontent.com/a-/AOh14GiqVinzqmrGGZD4kob8EyBM4_1H8x3A24vYe6NR=s64",
      "userId": "04350791120363313118"
     },
     "user_tz": -120
    },
    "id": "z-DoYlG_pBQg"
   },
   "outputs": [],
   "source": [
    "%matplotlib inline\n",
    "sns.set_style('darkgrid')"
   ]
  },
  {
   "cell_type": "code",
   "execution_count": 225,
   "metadata": {
    "colab": {
     "base_uri": "https://localhost:8080/"
    },
    "executionInfo": {
     "elapsed": 15627,
     "status": "ok",
     "timestamp": 1623607177720,
     "user": {
      "displayName": "Gonzalo Diez Puebla",
      "photoUrl": "https://lh3.googleusercontent.com/a-/AOh14GiqVinzqmrGGZD4kob8EyBM4_1H8x3A24vYe6NR=s64",
      "userId": "04350791120363313118"
     },
     "user_tz": -120
    },
    "id": "6PBM7IqNGdyA",
    "outputId": "40235da3-72a1-44e9-8a54-2dd6bed5f07e"
   },
   "outputs": [],
   "source": [
    "#from google.colab import drive\n",
    "#drive.mount('/content/drive')\n",
    "\n",
    "#!ls "
   ]
  },
  {
   "cell_type": "code",
   "execution_count": 226,
   "metadata": {},
   "outputs": [],
   "source": [
    "#cd  "
   ]
  },
  {
   "cell_type": "code",
   "execution_count": null,
   "metadata": {},
   "outputs": [],
   "source": []
  },
  {
   "cell_type": "code",
   "execution_count": null,
   "metadata": {},
   "outputs": [],
   "source": []
  },
  {
   "cell_type": "code",
   "execution_count": null,
   "metadata": {},
   "outputs": [],
   "source": []
  },
  {
   "cell_type": "markdown",
   "metadata": {},
   "source": [
    "## **CUIDAO!**"
   ]
  },
  {
   "cell_type": "code",
   "execution_count": 227,
   "metadata": {},
   "outputs": [],
   "source": [
    "#os.rmdir('/home/jupyter/imagenes_entrenamiento_clasificador/train/.ipynb_checkpoints')"
   ]
  },
  {
   "cell_type": "code",
   "execution_count": 228,
   "metadata": {},
   "outputs": [
    {
     "name": "stdout",
     "output_type": "stream",
     "text": [
      "total 16\n",
      "drwxr-xr-x  4 jupyter jupyter 4096 Jun 14 20:23 .\n",
      "drwxr-xr-x 22 jupyter jupyter 4096 Jun 22 19:38 ..\n",
      "drwxr-xr-x  4 jupyter jupyter 4096 Jun 14 20:25 test\n",
      "drwxr-xr-x  4 jupyter jupyter 4096 Jun 14 20:25 train\n"
     ]
    }
   ],
   "source": [
    "!ls -la '/home/jupyter/imagenes_entrenamiento_clasificador'"
   ]
  },
  {
   "cell_type": "code",
   "execution_count": 229,
   "metadata": {},
   "outputs": [
    {
     "name": "stdout",
     "output_type": "stream",
     "text": [
      "total 7044\n",
      "drwxr-xr-x 4 jupyter jupyter    4096 Jun 14 20:25 .\n",
      "drwxr-xr-x 4 jupyter jupyter    4096 Jun 14 20:23 ..\n",
      "drwxr-xr-x 2 jupyter jupyter 3887104 Jun 22 19:35 ataques_reales\n",
      "drwxr-xr-x 2 jupyter jupyter 3309568 Jun 22 19:38 normal\n"
     ]
    }
   ],
   "source": [
    "!ls -la '/home/jupyter/imagenes_entrenamiento_clasificador/train'"
   ]
  },
  {
   "cell_type": "code",
   "execution_count": 230,
   "metadata": {},
   "outputs": [
    {
     "name": "stdout",
     "output_type": "stream",
     "text": [
      "total 5060\n",
      "drwxr-xr-x 4 jupyter jupyter    4096 Jun 14 20:25 .\n",
      "drwxr-xr-x 4 jupyter jupyter    4096 Jun 14 20:23 ..\n",
      "drwxr-xr-x 2 jupyter jupyter 1855488 Jun 21 10:41 ataques_generados\n",
      "drwxr-xr-x 2 jupyter jupyter 3309568 Jun 21 10:36 normal\n"
     ]
    }
   ],
   "source": [
    "!ls -la '/home/jupyter/imagenes_entrenamiento_clasificador/test'"
   ]
  },
  {
   "cell_type": "markdown",
   "metadata": {
    "id": "E_PW6v0kpBQh"
   },
   "source": [
    "## Define Paths and Set GPU"
   ]
  },
  {
   "cell_type": "markdown",
   "metadata": {
    "id": "6NCV6fwKpBQh"
   },
   "source": [
    "Let's define the path for our data."
   ]
  },
  {
   "cell_type": "code",
   "execution_count": 231,
   "metadata": {
    "colab": {
     "base_uri": "https://localhost:8080/"
    },
    "executionInfo": {
     "elapsed": 11,
     "status": "ok",
     "timestamp": 1623607177721,
     "user": {
      "displayName": "Gonzalo Diez Puebla",
      "photoUrl": "https://lh3.googleusercontent.com/a-/AOh14GiqVinzqmrGGZD4kob8EyBM4_1H8x3A24vYe6NR=s64",
      "userId": "04350791120363313118"
     },
     "user_tz": -120
    },
    "id": "SADHhw8jpBQh",
    "outputId": "0bc59e75-8882-4f51-e84c-596e150419fa"
   },
   "outputs": [
    {
     "name": "stdout",
     "output_type": "stream",
     "text": [
      "We're using => cpu\n",
      "The data lies here => /home/jupyter/imagenes_entrenamiento_clasificador\n"
     ]
    }
   ],
   "source": [
    "device = torch.device(\"cuda\" if torch.cuda.is_available() else \"cpu\")\n",
    "print(\"We're using =>\", device)\n",
    "\n",
    "root_dir = '/home/jupyter/imagenes_entrenamiento_clasificador'\n",
    "print(\"The data lies here =>\", root_dir)"
   ]
  },
  {
   "cell_type": "markdown",
   "metadata": {
    "id": "UIQbeJ7HpBQi"
   },
   "source": [
    "## Define transforms"
   ]
  },
  {
   "cell_type": "markdown",
   "metadata": {
    "id": "BvndBFEKpBQi"
   },
   "source": [
    "Let's define a dictionary to hold the image transformations for train/test sets. We will resize all images to have size (224, 224) as well as convert the images to tensor. The `ToTensor` operation in PyTorch convert all tensors to lie between (0, 1). \n",
    "\n",
    "> `ToTensor` converts a PIL Image or numpy.ndarray (H x W x C) in the range [0, 255] to a torch.FloatTensor of shape (C x H x W) in the range [0.0, 1.0]"
   ]
  },
  {
   "cell_type": "code",
   "execution_count": 232,
   "metadata": {
    "executionInfo": {
     "elapsed": 6,
     "status": "ok",
     "timestamp": 1623607177721,
     "user": {
      "displayName": "Gonzalo Diez Puebla",
      "photoUrl": "https://lh3.googleusercontent.com/a-/AOh14GiqVinzqmrGGZD4kob8EyBM4_1H8x3A24vYe6NR=s64",
      "userId": "04350791120363313118"
     },
     "user_tz": -120
    },
    "id": "rKbhFy6KpBQj"
   },
   "outputs": [],
   "source": [
    "image_transforms = {\n",
    "    \"train\": transforms.Compose([\n",
    "        transforms.Grayscale(num_output_channels=1),\n",
    "        transforms.Resize((8, 8)),\n",
    "        transforms.ToTensor(),\n",
    "        transforms.Normalize([0.5],\n",
    "                             [0.5]) \n",
    "    ]),\n",
    "    \"test\": transforms.Compose([\n",
    "        transforms.Grayscale(num_output_channels=1),\n",
    "        transforms.Resize((8, 8)),\n",
    "        transforms.ToTensor(),\n",
    "        transforms.Normalize([0.5],\n",
    "                             [0.5])\n",
    "    ])\n",
    "}"
   ]
  },
  {
   "cell_type": "markdown",
   "metadata": {
    "id": "St3gjgPgpBQj"
   },
   "source": [
    "## Initialize Datasets"
   ]
  },
  {
   "cell_type": "markdown",
   "metadata": {
    "id": "t9sLKGzipBQj"
   },
   "source": [
    "### Train + Validation Dataset"
   ]
  },
  {
   "cell_type": "markdown",
   "metadata": {
    "id": "MeNKYgdLpBQk"
   },
   "source": [
    "We 2 dataset folders with us - **Train** and **Test**. \n",
    "\n",
    "We will further divide our **Train** set as **Train + Val**. "
   ]
  },
  {
   "cell_type": "code",
   "execution_count": 233,
   "metadata": {
    "colab": {
     "base_uri": "https://localhost:8080/"
    },
    "executionInfo": {
     "elapsed": 7113,
     "status": "ok",
     "timestamp": 1623607184828,
     "user": {
      "displayName": "Gonzalo Diez Puebla",
      "photoUrl": "https://lh3.googleusercontent.com/a-/AOh14GiqVinzqmrGGZD4kob8EyBM4_1H8x3A24vYe6NR=s64",
      "userId": "04350791120363313118"
     },
     "user_tz": -120
    },
    "id": "NqasIA73pBQk",
    "outputId": "b9974d23-22c6-4705-9004-886b910f7e83"
   },
   "outputs": [
    {
     "data": {
      "text/plain": [
       "Dataset ImageFolder\n",
       "    Number of datapoints: 93200\n",
       "    Root location: /home/jupyter/imagenes_entrenamiento_clasificador/train\n",
       "    StandardTransform\n",
       "Transform: Compose(\n",
       "               Grayscale(num_output_channels=1)\n",
       "               Resize(size=(8, 8), interpolation=bilinear)\n",
       "               ToTensor()\n",
       "               Normalize(mean=[0.5], std=[0.5])\n",
       "           )"
      ]
     },
     "execution_count": 233,
     "metadata": {},
     "output_type": "execute_result"
    }
   ],
   "source": [
    "hotdog_dataset = datasets.ImageFolder(root = root_dir + \"/train\",\n",
    "                                      transform = image_transforms[\"train\"] ######################################################\n",
    "                                     )\n",
    "\n",
    "hotdog_dataset"
   ]
  },
  {
   "cell_type": "markdown",
   "metadata": {
    "id": "EYbMFQYNpBQk"
   },
   "source": [
    "### Class <=> ID Mapping of Output"
   ]
  },
  {
   "cell_type": "markdown",
   "metadata": {
    "id": "9QKI41bPpBQl"
   },
   "source": [
    "The `class_to_idx` function is pre-built in PyTorch. It returns class ID's present in the dataset."
   ]
  },
  {
   "cell_type": "code",
   "execution_count": 234,
   "metadata": {
    "colab": {
     "base_uri": "https://localhost:8080/"
    },
    "executionInfo": {
     "elapsed": 29,
     "status": "ok",
     "timestamp": 1623607184830,
     "user": {
      "displayName": "Gonzalo Diez Puebla",
      "photoUrl": "https://lh3.googleusercontent.com/a-/AOh14GiqVinzqmrGGZD4kob8EyBM4_1H8x3A24vYe6NR=s64",
      "userId": "04350791120363313118"
     },
     "user_tz": -120
    },
    "id": "jLMjHs9ipBQl",
    "outputId": "30468b18-610f-4c49-b2b9-6ba994253ace"
   },
   "outputs": [
    {
     "data": {
      "text/plain": [
       "{'ataques_reales': 0, 'normal': 1}"
      ]
     },
     "execution_count": 234,
     "metadata": {},
     "output_type": "execute_result"
    }
   ],
   "source": [
    "hotdog_dataset.class_to_idx"
   ]
  },
  {
   "cell_type": "markdown",
   "metadata": {
    "id": "IZfLMv0MpBQl"
   },
   "source": [
    "We will now construct a reverse of this dictionary; a mapping of ID to class. "
   ]
  },
  {
   "cell_type": "code",
   "execution_count": 235,
   "metadata": {
    "executionInfo": {
     "elapsed": 26,
     "status": "ok",
     "timestamp": 1623607184831,
     "user": {
      "displayName": "Gonzalo Diez Puebla",
      "photoUrl": "https://lh3.googleusercontent.com/a-/AOh14GiqVinzqmrGGZD4kob8EyBM4_1H8x3A24vYe6NR=s64",
      "userId": "04350791120363313118"
     },
     "user_tz": -120
    },
    "id": "9XxhGTr4pBQl"
   },
   "outputs": [],
   "source": [
    "idx2class = {v: k for k, v in hotdog_dataset.class_to_idx.items()}"
   ]
  },
  {
   "cell_type": "markdown",
   "metadata": {
    "id": "Op9OfJzOpBQm"
   },
   "source": [
    "Let's also write a function that takes in a dataset object and returns a dictionary that contains the count of class samples. We will use this dictionary to contruct plots and observe the class distribution in our data.\n",
    "\n",
    "`get_class_distribution()` takes in an argument called `dataset_obj`. \n",
    "\n",
    "* We first initialize a `count_dict` dictionary where counts of all classes are initialised to 0. \n",
    "* Then, let's iterate through the dataset and increment the counter by 1 for every class label encountered in the loop.\n",
    "\n",
    "\n",
    "`plot_from_dict()` takes in 3 arguments: a dictionary called `dict_obj`, `plot_title`, and `**kwargs`. We pass in `**kwargs` because later on, we will constuct subplots which require passing the `ax` argument in seaborn. \n",
    "\n",
    "* First convert the dictionary to a dataframe. \n",
    "* Melt the dataframe and plot."
   ]
  },
  {
   "cell_type": "code",
   "execution_count": 236,
   "metadata": {
    "executionInfo": {
     "elapsed": 25,
     "status": "ok",
     "timestamp": 1623607184831,
     "user": {
      "displayName": "Gonzalo Diez Puebla",
      "photoUrl": "https://lh3.googleusercontent.com/a-/AOh14GiqVinzqmrGGZD4kob8EyBM4_1H8x3A24vYe6NR=s64",
      "userId": "04350791120363313118"
     },
     "user_tz": -120
    },
    "id": "RmdoXP0xpBQm"
   },
   "outputs": [],
   "source": [
    "def get_class_distribution(dataset_obj):\n",
    "    count_dict = {k:0 for k,v in dataset_obj.class_to_idx.items()}\n",
    "    \n",
    "    for _, label_id in dataset_obj:\n",
    "        label = idx2class[label_id]\n",
    "        count_dict[label] += 1\n",
    "    return count_dict\n",
    "\n",
    "\n",
    "def plot_from_dict(dict_obj, plot_title, **kwargs):\n",
    "    return sns.barplot(data = pd.DataFrame.from_dict([dict_obj]).melt(), x = \"variable\", y=\"value\", hue=\"variable\", **kwargs).set_title(plot_title)"
   ]
  },
  {
   "cell_type": "code",
   "execution_count": 237,
   "metadata": {
    "executionInfo": {
     "elapsed": 23,
     "status": "ok",
     "timestamp": 1623607184832,
     "user": {
      "displayName": "Gonzalo Diez Puebla",
      "photoUrl": "https://lh3.googleusercontent.com/a-/AOh14GiqVinzqmrGGZD4kob8EyBM4_1H8x3A24vYe6NR=s64",
      "userId": "04350791120363313118"
     },
     "user_tz": -120
    },
    "id": "rax7Cs_9pBQm"
   },
   "outputs": [
    {
     "data": {
      "image/png": "[encoded data removed]",
      "text/plain": [
       "<Figure size 1080x576 with 1 Axes>"
      ]
     },
     "metadata": {},
     "output_type": "display_data"
    }
   ],
   "source": [
    "plt.figure(figsize=(15,8))\n",
    "plot_from_dict(get_class_distribution(hotdog_dataset), plot_title=\"Entire Dataset (before train/val/test split)\")\n",
    "\n",
    "plt.savefig(\"/home/jupyter/modelo_clasificador_entrenado_graficas/dataset_entrenamiento.png\")\n"
   ]
  },
  {
   "cell_type": "markdown",
   "metadata": {
    "id": "s1SvV9jSpBQn"
   },
   "source": [
    "### Get Train and Validation Samples"
   ]
  },
  {
   "cell_type": "markdown",
   "metadata": {
    "id": "-eatKE3GpBQn"
   },
   "source": [
    "We use `SubsetRandomSampler` to make our train and validation loaders. `SubsetRandomSampler` is used so that our each batch receives a random distribution of classes. \n",
    "\n",
    "We could've also split our dataset into 2 parts - train and val ie. make 2 `Subsets`. But this is simpler because our data loader will pretty much handle everything now.\n",
    "\n",
    "\n",
    "\n",
    "`SubsetRandomSampler(indices)` takes as input the indices of data.\n",
    "\n",
    "We first create our samplers and then we'll pass it to our dataloaders.\n",
    "\n",
    "* Create a list of indices.\n",
    "* Shuffle the indices.\n",
    "* Split the indices based on train-val percentage.\n",
    "* Create SubsetRandomSampler."
   ]
  },
  {
   "cell_type": "markdown",
   "metadata": {
    "id": "tAMcdC5zpBQn"
   },
   "source": [
    "Create a list of indices from 0 to length of dataset."
   ]
  },
  {
   "cell_type": "code",
   "execution_count": 238,
   "metadata": {
    "executionInfo": {
     "elapsed": 22,
     "status": "ok",
     "timestamp": 1623607184832,
     "user": {
      "displayName": "Gonzalo Diez Puebla",
      "photoUrl": "https://lh3.googleusercontent.com/a-/AOh14GiqVinzqmrGGZD4kob8EyBM4_1H8x3A24vYe6NR=s64",
      "userId": "04350791120363313118"
     },
     "user_tz": -120
    },
    "id": "cLgsNHFEpBQo"
   },
   "outputs": [],
   "source": [
    "hotdog_dataset_size = len(hotdog_dataset) # cuantos elementos tiene el dataset\n",
    "hotdog_dataset_indices = list(range(hotdog_dataset_size)) # crear un array con numeros desde 0 hasta el numero de elementos del dataset"
   ]
  },
  {
   "cell_type": "code",
   "execution_count": 239,
   "metadata": {
    "executionInfo": {
     "elapsed": 23,
     "status": "ok",
     "timestamp": 1623607184833,
     "user": {
      "displayName": "Gonzalo Diez Puebla",
      "photoUrl": "https://lh3.googleusercontent.com/a-/AOh14GiqVinzqmrGGZD4kob8EyBM4_1H8x3A24vYe6NR=s64",
      "userId": "04350791120363313118"
     },
     "user_tz": -120
    },
    "id": "28cW-vZxPjLv"
   },
   "outputs": [],
   "source": [
    "#hotdog_dataset_size "
   ]
  },
  {
   "cell_type": "code",
   "execution_count": 240,
   "metadata": {
    "executionInfo": {
     "elapsed": 22,
     "status": "ok",
     "timestamp": 1623607184833,
     "user": {
      "displayName": "Gonzalo Diez Puebla",
      "photoUrl": "https://lh3.googleusercontent.com/a-/AOh14GiqVinzqmrGGZD4kob8EyBM4_1H8x3A24vYe6NR=s64",
      "userId": "04350791120363313118"
     },
     "user_tz": -120
    },
    "id": "L0GowbIgPlZT"
   },
   "outputs": [],
   "source": [
    "#hotdog_dataset_indices"
   ]
  },
  {
   "cell_type": "markdown",
   "metadata": {
    "id": "2HnncUQLpBQo"
   },
   "source": [
    "Shuffle the list of indices using np.shuffle."
   ]
  },
  {
   "cell_type": "code",
   "execution_count": 241,
   "metadata": {
    "executionInfo": {
     "elapsed": 23,
     "status": "ok",
     "timestamp": 1623607184834,
     "user": {
      "displayName": "Gonzalo Diez Puebla",
      "photoUrl": "https://lh3.googleusercontent.com/a-/AOh14GiqVinzqmrGGZD4kob8EyBM4_1H8x3A24vYe6NR=s64",
      "userId": "04350791120363313118"
     },
     "user_tz": -120
    },
    "id": "YhLkIrMXpBQo"
   },
   "outputs": [],
   "source": [
    "np.random.shuffle(hotdog_dataset_indices) # se mezclan los indices de posicion para que no esten en orden"
   ]
  },
  {
   "cell_type": "code",
   "execution_count": 242,
   "metadata": {
    "executionInfo": {
     "elapsed": 22,
     "status": "ok",
     "timestamp": 1623607184834,
     "user": {
      "displayName": "Gonzalo Diez Puebla",
      "photoUrl": "https://lh3.googleusercontent.com/a-/AOh14GiqVinzqmrGGZD4kob8EyBM4_1H8x3A24vYe6NR=s64",
      "userId": "04350791120363313118"
     },
     "user_tz": -120
    },
    "id": "78ggAlO7PpAn"
   },
   "outputs": [],
   "source": [
    "#hotdog_dataset_indices"
   ]
  },
  {
   "cell_type": "markdown",
   "metadata": {
    "id": "OB7jqjrEpBQo"
   },
   "source": [
    "Create the split index. We choose the split index to be 20% (0.2) of the dataset size."
   ]
  },
  {
   "cell_type": "code",
   "execution_count": 243,
   "metadata": {
    "executionInfo": {
     "elapsed": 23,
     "status": "ok",
     "timestamp": 1623607184835,
     "user": {
      "displayName": "Gonzalo Diez Puebla",
      "photoUrl": "https://lh3.googleusercontent.com/a-/AOh14GiqVinzqmrGGZD4kob8EyBM4_1H8x3A24vYe6NR=s64",
      "userId": "04350791120363313118"
     },
     "user_tz": -120
    },
    "id": "OiqF9dR0pBQo"
   },
   "outputs": [],
   "source": [
    "val_split_index = int(np.floor(0.3 * hotdog_dataset_size)) # multiplica la longgitud total del dataset por 0,2 para ver cuantos indices coger para ser el 20%\n",
    "                                                           # np.floor es para quedarte con la parte entera del numero multiplicado"
   ]
  },
  {
   "cell_type": "code",
   "execution_count": 244,
   "metadata": {
    "executionInfo": {
     "elapsed": 332,
     "status": "ok",
     "timestamp": 1623607185144,
     "user": {
      "displayName": "Gonzalo Diez Puebla",
      "photoUrl": "https://lh3.googleusercontent.com/a-/AOh14GiqVinzqmrGGZD4kob8EyBM4_1H8x3A24vYe6NR=s64",
      "userId": "04350791120363313118"
     },
     "user_tz": -120
    },
    "id": "Q_aSCuH2PvLJ"
   },
   "outputs": [],
   "source": [
    "#val_split_index"
   ]
  },
  {
   "cell_type": "markdown",
   "metadata": {
    "id": "iiY6s0L9pBQp"
   },
   "source": [
    "Slice the lists to obtain 2 lists of indices, one for train and other for test.\n",
    "\n",
    "Val => 0 to val_split_index\n",
    "\n",
    "Train => val_split_index to n\n"
   ]
  },
  {
   "cell_type": "code",
   "execution_count": 245,
   "metadata": {
    "executionInfo": {
     "elapsed": 8,
     "status": "ok",
     "timestamp": 1623607185145,
     "user": {
      "displayName": "Gonzalo Diez Puebla",
      "photoUrl": "https://lh3.googleusercontent.com/a-/AOh14GiqVinzqmrGGZD4kob8EyBM4_1H8x3A24vYe6NR=s64",
      "userId": "04350791120363313118"
     },
     "user_tz": -120
    },
    "id": "xmTvjmntpBQp"
   },
   "outputs": [],
   "source": [
    "train_idx, val_idx = hotdog_dataset_indices[val_split_index:], hotdog_dataset_indices[:val_split_index] # de la lista de indices desordenados, coge el 20% para el test de validacion y el 80% para el train"
   ]
  },
  {
   "cell_type": "code",
   "execution_count": 246,
   "metadata": {
    "executionInfo": {
     "elapsed": 8,
     "status": "ok",
     "timestamp": 1623607185145,
     "user": {
      "displayName": "Gonzalo Diez Puebla",
      "photoUrl": "https://lh3.googleusercontent.com/a-/AOh14GiqVinzqmrGGZD4kob8EyBM4_1H8x3A24vYe6NR=s64",
      "userId": "04350791120363313118"
     },
     "user_tz": -120
    },
    "id": "q8aNRLDrPy2q"
   },
   "outputs": [],
   "source": [
    "#len(val_idx)"
   ]
  },
  {
   "cell_type": "code",
   "execution_count": 247,
   "metadata": {
    "executionInfo": {
     "elapsed": 7,
     "status": "ok",
     "timestamp": 1623607185145,
     "user": {
      "displayName": "Gonzalo Diez Puebla",
      "photoUrl": "https://lh3.googleusercontent.com/a-/AOh14GiqVinzqmrGGZD4kob8EyBM4_1H8x3A24vYe6NR=s64",
      "userId": "04350791120363313118"
     },
     "user_tz": -120
    },
    "id": "wBabnnt1QYe_"
   },
   "outputs": [],
   "source": [
    "#val_idx"
   ]
  },
  {
   "cell_type": "code",
   "execution_count": 248,
   "metadata": {
    "executionInfo": {
     "elapsed": 8,
     "status": "ok",
     "timestamp": 1623607185146,
     "user": {
      "displayName": "Gonzalo Diez Puebla",
      "photoUrl": "https://lh3.googleusercontent.com/a-/AOh14GiqVinzqmrGGZD4kob8EyBM4_1H8x3A24vYe6NR=s64",
      "userId": "04350791120363313118"
     },
     "user_tz": -120
    },
    "id": "t2_gfCC6Pyt5"
   },
   "outputs": [],
   "source": [
    "#len(train_idx)"
   ]
  },
  {
   "cell_type": "code",
   "execution_count": 249,
   "metadata": {
    "executionInfo": {
     "elapsed": 9,
     "status": "ok",
     "timestamp": 1623607185147,
     "user": {
      "displayName": "Gonzalo Diez Puebla",
      "photoUrl": "https://lh3.googleusercontent.com/a-/AOh14GiqVinzqmrGGZD4kob8EyBM4_1H8x3A24vYe6NR=s64",
      "userId": "04350791120363313118"
     },
     "user_tz": -120
    },
    "id": "Ukkao_O0QXkU"
   },
   "outputs": [],
   "source": [
    "#train_idx"
   ]
  },
  {
   "cell_type": "markdown",
   "metadata": {
    "id": "hDh9tuPQpBQp"
   },
   "source": [
    "Finally, create samplers."
   ]
  },
  {
   "cell_type": "code",
   "execution_count": 250,
   "metadata": {
    "executionInfo": {
     "elapsed": 8,
     "status": "ok",
     "timestamp": 1623607185147,
     "user": {
      "displayName": "Gonzalo Diez Puebla",
      "photoUrl": "https://lh3.googleusercontent.com/a-/AOh14GiqVinzqmrGGZD4kob8EyBM4_1H8x3A24vYe6NR=s64",
      "userId": "04350791120363313118"
     },
     "user_tz": -120
    },
    "id": "IkrLX5p9pBQq"
   },
   "outputs": [],
   "source": [
    "train_sampler = SubsetRandomSampler(train_idx) #cada train sampler tiene una lista de indices aleatorios, el train sampler tiene el 80% de los indices y el val sampler el 20%\n",
    "val_sampler = SubsetRandomSampler(val_idx)"
   ]
  },
  {
   "cell_type": "markdown",
   "metadata": {
    "id": "GWhok4iMpBQq"
   },
   "source": [
    "### Test"
   ]
  },
  {
   "cell_type": "markdown",
   "metadata": {
    "id": "GJtfjCFTpBQq"
   },
   "source": [
    "Now that we're done with train and val data, let's load our test dataset. "
   ]
  },
  {
   "cell_type": "code",
   "execution_count": 251,
   "metadata": {
    "colab": {
     "base_uri": "https://localhost:8080/"
    },
    "executionInfo": {
     "elapsed": 5702,
     "status": "ok",
     "timestamp": 1623607190841,
     "user": {
      "displayName": "Gonzalo Diez Puebla",
      "photoUrl": "https://lh3.googleusercontent.com/a-/AOh14GiqVinzqmrGGZD4kob8EyBM4_1H8x3A24vYe6NR=s64",
      "userId": "04350791120363313118"
     },
     "user_tz": -120
    },
    "id": "XuEq6Sl_pBQq",
    "outputId": "7f1a583a-7d70-45bd-efb3-25fc2768082a"
   },
   "outputs": [
    {
     "data": {
      "text/plain": [
       "Dataset ImageFolder\n",
       "    Number of datapoints: 89050\n",
       "    Root location: /home/jupyter/imagenes_entrenamiento_clasificador/test\n",
       "    StandardTransform\n",
       "Transform: Compose(\n",
       "               Grayscale(num_output_channels=1)\n",
       "               Resize(size=(8, 8), interpolation=bilinear)\n",
       "               ToTensor()\n",
       "               Normalize(mean=[0.5], std=[0.5])\n",
       "           )"
      ]
     },
     "execution_count": 251,
     "metadata": {},
     "output_type": "execute_result"
    }
   ],
   "source": [
    "hotdog_dataset_test = datasets.ImageFolder(root = root_dir + \"/test\",\n",
    "                                            transform = image_transforms[\"test\"]\n",
    "                                           )\n",
    "\n",
    "hotdog_dataset_test"
   ]
  },
  {
   "cell_type": "code",
   "execution_count": 252,
   "metadata": {
    "colab": {
     "base_uri": "https://localhost:8080/"
    },
    "executionInfo": {
     "elapsed": 46,
     "status": "ok",
     "timestamp": 1623607190842,
     "user": {
      "displayName": "Gonzalo Diez Puebla",
      "photoUrl": "https://lh3.googleusercontent.com/a-/AOh14GiqVinzqmrGGZD4kob8EyBM4_1H8x3A24vYe6NR=s64",
      "userId": "04350791120363313118"
     },
     "user_tz": -120
    },
    "id": "68WwREAmVfiU",
    "outputId": "0e41530c-b70f-4a3c-8d45-d0c4bdc68a4f"
   },
   "outputs": [
    {
     "data": {
      "text/plain": [
       "{'ataques_generados': 0, 'normal': 1}"
      ]
     },
     "execution_count": 252,
     "metadata": {},
     "output_type": "execute_result"
    }
   ],
   "source": [
    "hotdog_dataset_test.class_to_idx"
   ]
  },
  {
   "cell_type": "markdown",
   "metadata": {
    "id": "x8TrH_UnpBQr"
   },
   "source": [
    "## Train, Validation, and Test Dataloader"
   ]
  },
  {
   "cell_type": "markdown",
   "metadata": {
    "id": "XoY3Sly8pBQr"
   },
   "source": [
    "Now, we will pass the samplers to our dataloader. Note that `shuffle=True` cannot be used when you're using the `SubsetRandomSampler`."
   ]
  },
  {
   "cell_type": "code",
   "execution_count": 253,
   "metadata": {
    "executionInfo": {
     "elapsed": 40,
     "status": "ok",
     "timestamp": 1623607190843,
     "user": {
      "displayName": "Gonzalo Diez Puebla",
      "photoUrl": "https://lh3.googleusercontent.com/a-/AOh14GiqVinzqmrGGZD4kob8EyBM4_1H8x3A24vYe6NR=s64",
      "userId": "04350791120363313118"
     },
     "user_tz": -120
    },
    "id": "kH1jHYPUpBQr"
   },
   "outputs": [],
   "source": [
    "train_loader = DataLoader(dataset=hotdog_dataset, shuffle=False, batch_size=16, sampler=train_sampler)\n",
    "val_loader = DataLoader(dataset=hotdog_dataset, shuffle=False, batch_size=1, sampler=val_sampler)\n",
    "test_loader = DataLoader(dataset=hotdog_dataset_test, shuffle=False, batch_size=1)"
   ]
  },
  {
   "cell_type": "markdown",
   "metadata": {
    "id": "0XMZ75yNpBQr"
   },
   "source": [
    "## Explore The Data"
   ]
  },
  {
   "cell_type": "markdown",
   "metadata": {
    "id": "JdnKYjDupBQr"
   },
   "source": [
    "To explore our train and val dataloaders, let's create a new function that takes in a dataloader and returns a dictionar with class counts. \n",
    "\n",
    "* Intialize a dictionary `count_dict` to all 0s.\n",
    "* If the batch_size of the `dataloader_obj` is 1, then loop through the `dataloader_obj` and update the counter. \n",
    "* Else, if the batch_size of the `dataloader_obj` is **not** 1, then loop through the `dataloader_obj` to obtain batches. Loop through the batches to obtain individual tensors. Now, updated the counter accordingly. "
   ]
  },
  {
   "cell_type": "code",
   "execution_count": 254,
   "metadata": {
    "executionInfo": {
     "elapsed": 41,
     "status": "ok",
     "timestamp": 1623607190845,
     "user": {
      "displayName": "Gonzalo Diez Puebla",
      "photoUrl": "https://lh3.googleusercontent.com/a-/AOh14GiqVinzqmrGGZD4kob8EyBM4_1H8x3A24vYe6NR=s64",
      "userId": "04350791120363313118"
     },
     "user_tz": -120
    },
    "id": "aBHhnA6mpBQs"
   },
   "outputs": [],
   "source": [
    "def get_class_distribution_loaders(dataloader_obj, dataset_obj):\n",
    "    count_dict = {k:0 for k,v in dataset_obj.class_to_idx.items()}\n",
    "    \n",
    "    if dataloader_obj.batch_size == 1:    \n",
    "        for _,label_id in dataloader_obj:\n",
    "            y_idx = label_id.item()\n",
    "            y_lbl = idx2class[y_idx]\n",
    "            count_dict[str(y_lbl)] += 1\n",
    "    else: \n",
    "        for _,label_id in dataloader_obj:\n",
    "            for idx in label_id:\n",
    "                y_idx = idx.item()\n",
    "                y_lbl = idx2class[y_idx]\n",
    "                count_dict[str(y_lbl)] += 1\n",
    "        \n",
    "            \n",
    "    return count_dict"
   ]
  },
  {
   "cell_type": "markdown",
   "metadata": {
    "id": "WMih7k2RpBQs"
   },
   "source": [
    "To plot the class distributions, we will use the `plot_from_dict()` function defined earlier with the `ax` argument."
   ]
  },
  {
   "cell_type": "code",
   "execution_count": 255,
   "metadata": {
    "executionInfo": {
     "elapsed": 40,
     "status": "ok",
     "timestamp": 1623607190846,
     "user": {
      "displayName": "Gonzalo Diez Puebla",
      "photoUrl": "https://lh3.googleusercontent.com/a-/AOh14GiqVinzqmrGGZD4kob8EyBM4_1H8x3A24vYe6NR=s64",
      "userId": "04350791120363313118"
     },
     "user_tz": -120
    },
    "id": "wb5MDz1KpBQs"
   },
   "outputs": [
    {
     "data": {
      "image/png": "[encoded data removed]",
      "text/plain": [
       "<Figure size 1296x504 with 2 Axes>"
      ]
     },
     "metadata": {},
     "output_type": "display_data"
    }
   ],
   "source": [
    "fig, axes = plt.subplots(nrows=1, ncols=2, figsize=(18,7))\n",
    "\n",
    "plot_from_dict(get_class_distribution_loaders(train_loader, hotdog_dataset), plot_title=\"Train Set\", ax=axes[0])\n",
    "plot_from_dict(get_class_distribution_loaders(val_loader, hotdog_dataset), plot_title=\"Val Set\", ax=axes[1])\n",
    "\n",
    "fig.savefig(\"/home/jupyter/modelo_clasificador_entrenado_graficas/dataset_train_val.png\")"
   ]
  },
  {
   "cell_type": "markdown",
   "metadata": {
    "id": "4EGMzYbYpBQt"
   },
   "source": [
    "--------------------------------------------------------------------------------\n",
    "\n",
    "Now that we've looked at the class distributions, Let's now look at a single image."
   ]
  },
  {
   "cell_type": "code",
   "execution_count": 256,
   "metadata": {
    "executionInfo": {
     "elapsed": 39,
     "status": "ok",
     "timestamp": 1623607190846,
     "user": {
      "displayName": "Gonzalo Diez Puebla",
      "photoUrl": "https://lh3.googleusercontent.com/a-/AOh14GiqVinzqmrGGZD4kob8EyBM4_1H8x3A24vYe6NR=s64",
      "userId": "04350791120363313118"
     },
     "user_tz": -120
    },
    "id": "WItu9sp7pBQt"
   },
   "outputs": [],
   "source": [
    "#single_batch = next(iter(train_loader))"
   ]
  },
  {
   "cell_type": "markdown",
   "metadata": {
    "id": "4tE7fLNcpBQt"
   },
   "source": [
    "`single_batch` is a list of 2 elements. The first element (0th index) contains the image tensors while the second element (1st index) contains the output labels. "
   ]
  },
  {
   "cell_type": "markdown",
   "metadata": {
    "id": "-cJ9pgXjpBQt"
   },
   "source": [
    "Here's the first element of the list which is a tensor. This tensor is of the shape `(batch, channels, height, width)`. "
   ]
  },
  {
   "cell_type": "code",
   "execution_count": 257,
   "metadata": {
    "executionInfo": {
     "elapsed": 38,
     "status": "ok",
     "timestamp": 1623607190847,
     "user": {
      "displayName": "Gonzalo Diez Puebla",
      "photoUrl": "https://lh3.googleusercontent.com/a-/AOh14GiqVinzqmrGGZD4kob8EyBM4_1H8x3A24vYe6NR=s64",
      "userId": "04350791120363313118"
     },
     "user_tz": -120
    },
    "id": "a8XhpkRBpBQt"
   },
   "outputs": [],
   "source": [
    "# single_batch[0].shape"
   ]
  },
  {
   "cell_type": "markdown",
   "metadata": {
    "id": "PevhKr9XpBQu"
   },
   "source": [
    "Here are the output labels for the batch."
   ]
  },
  {
   "cell_type": "code",
   "execution_count": 258,
   "metadata": {
    "executionInfo": {
     "elapsed": 38,
     "status": "ok",
     "timestamp": 1623607190848,
     "user": {
      "displayName": "Gonzalo Diez Puebla",
      "photoUrl": "https://lh3.googleusercontent.com/a-/AOh14GiqVinzqmrGGZD4kob8EyBM4_1H8x3A24vYe6NR=s64",
      "userId": "04350791120363313118"
     },
     "user_tz": -120
    },
    "id": "2jncR6EQpBQu"
   },
   "outputs": [],
   "source": [
    "#print(\"Output label tensors: \", single_batch[1])\n",
    "#print(\"\\nOutput label tensor shape: \", single_batch[1].shape)"
   ]
  },
  {
   "cell_type": "markdown",
   "metadata": {
    "id": "7ZePROWFpBQu"
   },
   "source": [
    "To plot the image, we'll use `plt.imshow` from matloptlib. It expects the image dimension to be `(height, width, channels)`. We'll `.permute()` our single image tensor to plot it. "
   ]
  },
  {
   "cell_type": "code",
   "execution_count": 259,
   "metadata": {
    "executionInfo": {
     "elapsed": 37,
     "status": "ok",
     "timestamp": 1623607190849,
     "user": {
      "displayName": "Gonzalo Diez Puebla",
      "photoUrl": "https://lh3.googleusercontent.com/a-/AOh14GiqVinzqmrGGZD4kob8EyBM4_1H8x3A24vYe6NR=s64",
      "userId": "04350791120363313118"
     },
     "user_tz": -120
    },
    "id": "ImYFoGp5pBQu"
   },
   "outputs": [],
   "source": [
    "# Selecting the first image tensor from the batch. \n",
    "#single_image = single_batch[0][0]\n",
    "#single_image.shape"
   ]
  },
  {
   "cell_type": "code",
   "execution_count": 260,
   "metadata": {
    "executionInfo": {
     "elapsed": 36,
     "status": "ok",
     "timestamp": 1623607190849,
     "user": {
      "displayName": "Gonzalo Diez Puebla",
      "photoUrl": "https://lh3.googleusercontent.com/a-/AOh14GiqVinzqmrGGZD4kob8EyBM4_1H8x3A24vYe6NR=s64",
      "userId": "04350791120363313118"
     },
     "user_tz": -120
    },
    "id": "n3wqZJeOpBQv"
   },
   "outputs": [],
   "source": [
    "#plt.imshow(single_image.permute(1, 2))"
   ]
  },
  {
   "cell_type": "markdown",
   "metadata": {
    "id": "2sgGSqp9pBQv"
   },
   "source": [
    "PyTorch has made it easier for us to plot the images in a grid straight from the batch. \n",
    "\n",
    "We first extract out the image tensor from the list (returned by our dataloader) and set `nrow`. Then we use the `plt.imshow()` function to plot our grid. Remember to `.permute()` the tensor dimensions!"
   ]
  },
  {
   "cell_type": "code",
   "execution_count": 261,
   "metadata": {
    "executionInfo": {
     "elapsed": 36,
     "status": "ok",
     "timestamp": 1623607190850,
     "user": {
      "displayName": "Gonzalo Diez Puebla",
      "photoUrl": "https://lh3.googleusercontent.com/a-/AOh14GiqVinzqmrGGZD4kob8EyBM4_1H8x3A24vYe6NR=s64",
      "userId": "04350791120363313118"
     },
     "user_tz": -120
    },
    "id": "vFN0CoTUpBQv"
   },
   "outputs": [],
   "source": [
    "# We do single_batch[0] because each batch is a list \n",
    "# where the 0th index is the image tensor and 1st index is the output label.\n",
    "#single_batch_grid = utils.make_grid(single_batch[0], nrow=4)"
   ]
  },
  {
   "cell_type": "code",
   "execution_count": 262,
   "metadata": {
    "executionInfo": {
     "elapsed": 37,
     "status": "ok",
     "timestamp": 1623607190851,
     "user": {
      "displayName": "Gonzalo Diez Puebla",
      "photoUrl": "https://lh3.googleusercontent.com/a-/AOh14GiqVinzqmrGGZD4kob8EyBM4_1H8x3A24vYe6NR=s64",
      "userId": "04350791120363313118"
     },
     "user_tz": -120
    },
    "id": "DUUq94WJpBQv"
   },
   "outputs": [],
   "source": [
    "#plt.figure(figsize = (10,10))\n",
    "#plt.imshow(single_batch_grid.permute(1, 2, 0))"
   ]
  },
  {
   "cell_type": "markdown",
   "metadata": {
    "id": "XvHRNJ7CpBQv"
   },
   "source": [
    "## Define a CNN Architecture"
   ]
  },
  {
   "cell_type": "markdown",
   "metadata": {
    "id": "I-e0FirKpBQw"
   },
   "source": [
    "Our architecture is simple. We use 4 blocks of Conv layers. Each block consists of`Convolution` + `BatchNorm` + `ReLU` + `Dropout` layers.\n",
    "\n",
    "\n",
    "We will not use an `FC` layer at the end. We'll stick with a `Conv` layer. "
   ]
  },
  {
   "cell_type": "code",
   "execution_count": 263,
   "metadata": {
    "executionInfo": {
     "elapsed": 37,
     "status": "ok",
     "timestamp": 1623607190851,
     "user": {
      "displayName": "Gonzalo Diez Puebla",
      "photoUrl": "https://lh3.googleusercontent.com/a-/AOh14GiqVinzqmrGGZD4kob8EyBM4_1H8x3A24vYe6NR=s64",
      "userId": "04350791120363313118"
     },
     "user_tz": -120
    },
    "id": "B9kja1w9pBQw"
   },
   "outputs": [],
   "source": [
    "class HotDogClassifier(nn.Module):\n",
    "    def __init__(self):\n",
    "        super(HotDogClassifier, self).__init__()\n",
    "        \n",
    "        \n",
    "        self.block1 = self.conv_block(c_in=1, c_out=64, kernel_size=3, stride=1, padding=1)\n",
    "        self.block2 = self.conv_block(c_in=64, c_out=128, kernel_size=3, stride=1, padding=1)\n",
    "        self.block3 = self.conv_block(c_in=128, c_out=256, kernel_size=3, stride=1, padding=1)\n",
    "        self.block4 = self.conv_block(c_in=256, c_out=256, kernel_size=3, stride=1, padding=1)\n",
    "        self.block5 = self.conv_block(c_in=256, c_out=128, kernel_size=3, stride=1, padding=1)\n",
    "        self.lastcnn = nn.Conv2d(in_channels=128, out_channels=2, kernel_size=1, stride=1, padding=0)\n",
    "        \n",
    "        self.maxpool = nn.MaxPool2d(kernel_size=2, stride=2)\n",
    "        \n",
    "        \n",
    "    def forward(self, x):\n",
    "        x = self.block1(x)\n",
    "        x = self.maxpool(x)\n",
    "        \n",
    "        x = self.block2(x)\n",
    "        x = self.maxpool(x)\n",
    "    \n",
    "        x = self.block3(x)\n",
    "        x = self.block4(x)\n",
    "        x = self.maxpool(x)\n",
    "        \n",
    "        x = self.block5(x)\n",
    "        x = self.lastcnn(x)\n",
    "        \n",
    "        return x\n",
    "    \n",
    "    \n",
    "    def conv_block(self, c_in, c_out, **kwargs):\n",
    "        seq_block = nn.Sequential(\n",
    "            nn.Conv2d(in_channels=c_in, out_channels=c_out, **kwargs),\n",
    "            nn.BatchNorm2d(num_features=c_out),\n",
    "            nn.ReLU(),\n",
    "#             nn.Dropout2d(p=dropout)\n",
    "        )\n",
    "        \n",
    "        return seq_block        "
   ]
  },
  {
   "cell_type": "markdown",
   "metadata": {
    "id": "EtucSkg7pBQw"
   },
   "source": [
    "Now we'll initialize the model, optimizer, and loss function. \n",
    "\n",
    "Then we'll transfer the model to GPU. \n",
    "\n",
    "We're using the `nn.CrossEntropyLoss` even though it's a binary classification problem. This means, instead of returning a single output of `1/0`, we'll treat return 2 values of `0 and 1`. More specifically, probabilities of the output being either `1` or `0`.\n",
    "\n",
    "We don't have to manually apply a `log_softmax` layer after our final layer because `nn.CrossEntropyLoss` does that for us.\n",
    "\n",
    "However, we need to apply `log_softmax` for our validation and testing."
   ]
  },
  {
   "cell_type": "code",
   "execution_count": 264,
   "metadata": {
    "colab": {
     "base_uri": "https://localhost:8080/"
    },
    "executionInfo": {
     "elapsed": 343,
     "status": "ok",
     "timestamp": 1623607191161,
     "user": {
      "displayName": "Gonzalo Diez Puebla",
      "photoUrl": "https://lh3.googleusercontent.com/a-/AOh14GiqVinzqmrGGZD4kob8EyBM4_1H8x3A24vYe6NR=s64",
      "userId": "04350791120363313118"
     },
     "user_tz": -120
    },
    "id": "njijgr0EpBQw",
    "outputId": "76881ad0-6186-42cd-8bbd-3d6d7e9b888e"
   },
   "outputs": [
    {
     "name": "stdout",
     "output_type": "stream",
     "text": [
      "HotDogClassifier(\n",
      "  (block1): Sequential(\n",
      "    (0): Conv2d(1, 64, kernel_size=(3, 3), stride=(1, 1), padding=(1, 1))\n",
      "    (1): BatchNorm2d(64, eps=1e-05, momentum=0.1, affine=True, track_running_stats=True)\n",
      "    (2): ReLU()\n",
      "  )\n",
      "  (block2): Sequential(\n",
      "    (0): Conv2d(64, 128, kernel_size=(3, 3), stride=(1, 1), padding=(1, 1))\n",
      "    (1): BatchNorm2d(128, eps=1e-05, momentum=0.1, affine=True, track_running_stats=True)\n",
      "    (2): ReLU()\n",
      "  )\n",
      "  (block3): Sequential(\n",
      "    (0): Conv2d(128, 256, kernel_size=(3, 3), stride=(1, 1), padding=(1, 1))\n",
      "    (1): BatchNorm2d(256, eps=1e-05, momentum=0.1, affine=True, track_running_stats=True)\n",
      "    (2): ReLU()\n",
      "  )\n",
      "  (block4): Sequential(\n",
      "    (0): Conv2d(256, 256, kernel_size=(3, 3), stride=(1, 1), padding=(1, 1))\n",
      "    (1): BatchNorm2d(256, eps=1e-05, momentum=0.1, affine=True, track_running_stats=True)\n",
      "    (2): ReLU()\n",
      "  )\n",
      "  (block5): Sequential(\n",
      "    (0): Conv2d(256, 128, kernel_size=(3, 3), stride=(1, 1), padding=(1, 1))\n",
      "    (1): BatchNorm2d(128, eps=1e-05, momentum=0.1, affine=True, track_running_stats=True)\n",
      "    (2): ReLU()\n",
      "  )\n",
      "  (lastcnn): Conv2d(128, 2, kernel_size=(1, 1), stride=(1, 1))\n",
      "  (maxpool): MaxPool2d(kernel_size=2, stride=2, padding=0, dilation=1, ceil_mode=False)\n",
      ")\n"
     ]
    }
   ],
   "source": [
    "model = HotDogClassifier()\n",
    "model.to(device)\n",
    "print(model)\n",
    "\n",
    "criterion = nn.CrossEntropyLoss()\n",
    "optimizer = optim.Adam(model.parameters(), lr=0.0001)"
   ]
  },
  {
   "cell_type": "markdown",
   "metadata": {
    "id": "NfibreRgpBQx"
   },
   "source": [
    "Before we start our training, let's define a function to calculate accuracy per epoch. \n",
    "\n",
    "This function takes `y_pred` and `y_test` as input arguments. We then apply softmax to `y_pred` and extract the class which has a higher probability.\n",
    "\n",
    "After that, we compare the the predicted classes and the actual classes to calculate the accuracy."
   ]
  },
  {
   "cell_type": "code",
   "execution_count": 265,
   "metadata": {
    "executionInfo": {
     "elapsed": 10,
     "status": "ok",
     "timestamp": 1623607191162,
     "user": {
      "displayName": "Gonzalo Diez Puebla",
      "photoUrl": "https://lh3.googleusercontent.com/a-/AOh14GiqVinzqmrGGZD4kob8EyBM4_1H8x3A24vYe6NR=s64",
      "userId": "04350791120363313118"
     },
     "user_tz": -120
    },
    "id": "6p8USv24pBQx"
   },
   "outputs": [],
   "source": [
    "def binary_acc(y_pred, y_test):\n",
    "    y_pred_tag = torch.log_softmax(y_pred, dim = 1)\n",
    "    _, y_pred_tags = torch.max(y_pred_tag, dim = 1)\n",
    "    \n",
    "    correct_results_sum = (y_pred_tags == y_test).sum().float()\n",
    "    \n",
    "    acc = correct_results_sum/y_test.shape[0]\n",
    "    acc = torch.round(acc * 100)\n",
    "    \n",
    "    return acc"
   ]
  },
  {
   "cell_type": "markdown",
   "metadata": {
    "id": "NfIxnBGUpBQx"
   },
   "source": [
    "We'll also define 2 dictionaries which will store the accuracy/epoch and loss/epoch for both train and validation sets."
   ]
  },
  {
   "cell_type": "code",
   "execution_count": 266,
   "metadata": {
    "executionInfo": {
     "elapsed": 10,
     "status": "ok",
     "timestamp": 1623607191163,
     "user": {
      "displayName": "Gonzalo Diez Puebla",
      "photoUrl": "https://lh3.googleusercontent.com/a-/AOh14GiqVinzqmrGGZD4kob8EyBM4_1H8x3A24vYe6NR=s64",
      "userId": "04350791120363313118"
     },
     "user_tz": -120
    },
    "id": "04mDGWwCpBQy"
   },
   "outputs": [],
   "source": [
    "accuracy_stats = {\n",
    "    'train': [],\n",
    "}\n",
    "\n",
    "loss_stats = {\n",
    "    'train': [],\n",
    "}"
   ]
  },
  {
   "cell_type": "markdown",
   "metadata": {
    "id": "_4-JqYO7pBQy"
   },
   "source": [
    "Let's TRAIN our model!\n",
    "\n",
    "You can see we've put a `model.train()` at the before the loop. `model.train()` tells PyTorch that you're in training mode. Well, why do we need to do that? If you're using layers such as `Dropout` or `BatchNorm` which behave differently during training and evaluation (for eample; not use `dropout` during evalualtion), you need to tell PyTorch to act accordingly. While the default mode in PyTorch is the train, so, you don't explicitly have to write that. But it's good practice.\n",
    "\n",
    "Similarly, we'll call `model.eval()` when we test our model. We'll see that below. Back to training; we start a for-loop. At the top of this for-loop, we initialize our loss and accuracy per epoch to 0. After every epoch, we'll print out the loss/accuracy and reset it back to 0.\n",
    "\n",
    "Then we have another for-loop. This for-loop is used to get our data in batches from the `train_loader`.\n",
    "\n",
    "We do `optimizer.zero_grad()` before we make any predictions. Since the `.backward()` function accumulates gradients, we need to set it to 0 manually per mini-batch. From our defined model, we then obtain a prediction, get the loss(and accuracy) for that mini-batch, perform backpropagation using loss.backward() and optimizer.step().  \n",
    "\n",
    "\n",
    "Finally, we add all the mini-batch losses (and accuracies) to obtain the average loss (and accuracy) for that epoch. We add up all the losses/accuracies for each minibatch and finally divide it by the number of minibatches ie. length of trainloader to obtain the average loss/accuracy per epoch.\n",
    "\n",
    "The procedure we follow for training is the exact same for validation except for the fact that we wrap it up in `torch.no_grad` and not perform any backpropagation. `torch.no_grad()` tells PyTorch that we do not want to perform back-propagation, which reduces memory usage and speeds up computation."
   ]
  },
  {
   "cell_type": "markdown",
   "metadata": {
    "id": "IjqCtD4HXpMf"
   },
   "source": [
    "# **ENTRENAMIENTO**"
   ]
  },
  {
   "cell_type": "code",
   "execution_count": 267,
   "metadata": {
    "colab": {
     "base_uri": "https://localhost:8080/",
     "height": 933,
     "referenced_widgets": [
      "0ef08f2c7fde47fa95f5e2ffa608db58",
      "e8f888db6b6a413eaf4563e4b45aecc8",
      "3d04b8ba87784575abfa1d91b57d7a93",
      "89e670b1baaf49bf9889880a580f20d3",
      "3181b551590646e9aff732f239406a99",
      "0b24697626fa4d66b9c5f113c3c93230",
      "a956c108612445cf9d6eff02a0b9b045",
      "3ebf80b2d1004fee80576d4fa1f53d82"
     ]
    },
    "executionInfo": {
     "elapsed": 526400,
     "status": "ok",
     "timestamp": 1623606538241,
     "user": {
      "displayName": "Gonzalo Diez Puebla",
      "photoUrl": "https://lh3.googleusercontent.com/a-/AOh14GiqVinzqmrGGZD4kob8EyBM4_1H8x3A24vYe6NR=s64",
      "userId": "04350791120363313118"
     },
     "user_tz": -120
    },
    "id": "B1Ua5wYHpBQy",
    "outputId": "18a39656-df9f-4863-a754-43f03c01b3d9"
   },
   "outputs": [
    {
     "name": "stdout",
     "output_type": "stream",
     "text": [
      "Begin training.\n"
     ]
    },
    {
     "data": {
      "application/vnd.jupyter.widget-view+json": {
       "model_id": "b74ba1d3fc3b4cfdbe2937f4c8e1718c",
       "version_major": 2,
       "version_minor": 0
      },
      "text/plain": [
       "  0%|          | 0/60 [00:00<?, ?it/s]"
      ]
     },
     "metadata": {},
     "output_type": "display_data"
    },
    {
     "name": "stdout",
     "output_type": "stream",
     "text": [
      "Epoch 01: | Train Loss: 0.02718 | Train Acc: 99.790\n",
      "Epoch 02: | Train Loss: 0.00508 | Train Acc: 99.886\n",
      "Epoch 03: | Train Loss: 0.00331 | Train Acc: 99.937\n",
      "Epoch 04: | Train Loss: 0.00283 | Train Acc: 99.926\n",
      "Epoch 05: | Train Loss: 0.00266 | Train Acc: 99.943\n",
      "Epoch 06: | Train Loss: 0.00168 | Train Acc: 99.966\n",
      "Epoch 07: | Train Loss: 0.00154 | Train Acc: 99.966\n",
      "Epoch 08: | Train Loss: 0.00164 | Train Acc: 99.963\n",
      "Epoch 09: | Train Loss: 0.00114 | Train Acc: 99.968\n",
      "Epoch 10: | Train Loss: 0.00130 | Train Acc: 99.976\n",
      "Epoch 11: | Train Loss: 0.00089 | Train Acc: 99.981\n",
      "Epoch 12: | Train Loss: 0.00084 | Train Acc: 99.979\n",
      "Epoch 13: | Train Loss: 0.00108 | Train Acc: 99.972\n",
      "Epoch 14: | Train Loss: 0.00069 | Train Acc: 99.975\n",
      "Epoch 15: | Train Loss: 0.00071 | Train Acc: 99.984\n",
      "Epoch 16: | Train Loss: 0.00078 | Train Acc: 99.981\n",
      "Epoch 17: | Train Loss: 0.00073 | Train Acc: 99.979\n",
      "Epoch 18: | Train Loss: 0.00049 | Train Acc: 99.985\n",
      "Epoch 19: | Train Loss: 0.00045 | Train Acc: 99.985\n",
      "Epoch 20: | Train Loss: 0.00049 | Train Acc: 99.985\n",
      "Epoch 21: | Train Loss: 0.00061 | Train Acc: 99.984\n",
      "Epoch 22: | Train Loss: 0.00068 | Train Acc: 99.979\n",
      "Epoch 23: | Train Loss: 0.00032 | Train Acc: 99.991\n",
      "Epoch 24: | Train Loss: 0.00045 | Train Acc: 99.993\n",
      "Epoch 25: | Train Loss: 0.00051 | Train Acc: 99.981\n",
      "Epoch 26: | Train Loss: 0.00041 | Train Acc: 99.991\n",
      "Epoch 27: | Train Loss: 0.00055 | Train Acc: 99.979\n",
      "Epoch 28: | Train Loss: 0.00061 | Train Acc: 99.982\n",
      "Epoch 29: | Train Loss: 0.00044 | Train Acc: 99.988\n",
      "Epoch 30: | Train Loss: 0.00060 | Train Acc: 99.987\n",
      "Epoch 31: | Train Loss: 0.00021 | Train Acc: 99.994\n",
      "Epoch 32: | Train Loss: 0.00061 | Train Acc: 99.988\n",
      "Epoch 33: | Train Loss: 0.00051 | Train Acc: 99.987\n",
      "Epoch 34: | Train Loss: 0.00023 | Train Acc: 99.993\n",
      "Epoch 35: | Train Loss: 0.00012 | Train Acc: 99.997\n",
      "Epoch 36: | Train Loss: 0.00001 | Train Acc: 100.000\n",
      "Epoch 37: | Train Loss: 0.00035 | Train Acc: 99.988\n",
      "Epoch 38: | Train Loss: 0.00061 | Train Acc: 99.990\n",
      "Epoch 39: | Train Loss: 0.00001 | Train Acc: 100.000\n",
      "Epoch 40: | Train Loss: 0.00045 | Train Acc: 99.987\n",
      "Epoch 41: | Train Loss: 0.00037 | Train Acc: 99.988\n",
      "Epoch 42: | Train Loss: 0.00025 | Train Acc: 99.994\n",
      "Epoch 43: | Train Loss: 0.00017 | Train Acc: 99.997\n",
      "Epoch 44: | Train Loss: 0.00041 | Train Acc: 99.988\n",
      "Epoch 45: | Train Loss: 0.00009 | Train Acc: 99.997\n",
      "Epoch 46: | Train Loss: 0.00021 | Train Acc: 99.994\n",
      "Epoch 47: | Train Loss: 0.00021 | Train Acc: 99.993\n",
      "Epoch 48: | Train Loss: 0.00001 | Train Acc: 100.000\n",
      "Epoch 49: | Train Loss: 0.00029 | Train Acc: 99.997\n",
      "Epoch 50: | Train Loss: 0.00001 | Train Acc: 100.000\n",
      "Epoch 51: | Train Loss: 0.00000 | Train Acc: 100.000\n",
      "Epoch 52: | Train Loss: 0.00017 | Train Acc: 99.996\n",
      "Epoch 53: | Train Loss: 0.00000 | Train Acc: 100.000\n",
      "Epoch 54: | Train Loss: 0.00040 | Train Acc: 99.993\n",
      "Epoch 55: | Train Loss: 0.00013 | Train Acc: 99.996\n",
      "Epoch 56: | Train Loss: 0.00020 | Train Acc: 99.993\n",
      "Epoch 57: | Train Loss: 0.00017 | Train Acc: 99.994\n",
      "Epoch 58: | Train Loss: 0.00026 | Train Acc: 99.996\n",
      "Epoch 59: | Train Loss: 0.00011 | Train Acc: 99.997\n",
      "Epoch 60: | Train Loss: 0.00017 | Train Acc: 99.994\n"
     ]
    }
   ],
   "source": [
    "print(\"Begin training.\")\n",
    "\n",
    "n_epoch = 60\n",
    "\n",
    "for e in tqdm(range(1, n_epoch+1)): # NUMERO DE EPOCH\n",
    "    \n",
    "    # TRAINING\n",
    "    \n",
    "    train_epoch_loss = 0\n",
    "    train_epoch_acc = 0\n",
    "    \n",
    "    model.train()\n",
    "    for X_train_batch, y_train_batch in train_loader:\n",
    "        X_train_batch, y_train_batch = X_train_batch.to(device), y_train_batch.to(device)\n",
    "        optimizer.zero_grad()\n",
    "        \n",
    "        y_train_pred = model(X_train_batch).squeeze()\n",
    "        \n",
    "        train_loss = criterion(y_train_pred, y_train_batch)\n",
    "        train_acc = binary_acc(y_train_pred, y_train_batch)\n",
    "        \n",
    "        train_loss.backward()\n",
    "        optimizer.step()\n",
    "        \n",
    "        train_epoch_loss += train_loss.item()\n",
    "        train_epoch_acc += train_acc.item()\n",
    "           \n",
    "        \n",
    "    loss_stats['train'].append(train_epoch_loss/len(train_loader))\n",
    "    accuracy_stats['train'].append(train_epoch_acc/len(train_loader))\n",
    "\n",
    "\n",
    "                              \n",
    "    #print(f'Epoch {e+0:02}: | Train Loss: {train_epoch_loss/len(train_loader):.5f} | Val Loss: {val_epoch_loss/len(train_loader):.5f} | Train Acc: {train_epoch_acc/len(train_loader):.3f}| Val Acc: {val_epoch_acc/len(train_loader):.3f}')\n",
    "\n",
    "    print(f'Epoch {e+0:02}: | Train Loss: {train_epoch_loss/len(train_loader):.5f} | Train Acc: {train_epoch_acc/len(train_loader):.3f}')\n"
   ]
  },
  {
   "cell_type": "markdown",
   "metadata": {
    "id": "f9cm9NFjpBQz"
   },
   "source": [
    "## Visualize Loss and Accuracy\n",
    "\n",
    "To plot the loss and accuracy line plots, we again create a dataframe from the `accuracy_stats` and `loss_stats` dictionaries."
   ]
  },
  {
   "cell_type": "code",
   "execution_count": 268,
   "metadata": {
    "colab": {
     "base_uri": "https://localhost:8080/",
     "height": 638
    },
    "executionInfo": {
     "elapsed": 1412,
     "status": "ok",
     "timestamp": 1623606539640,
     "user": {
      "displayName": "Gonzalo Diez Puebla",
      "photoUrl": "https://lh3.googleusercontent.com/a-/AOh14GiqVinzqmrGGZD4kob8EyBM4_1H8x3A24vYe6NR=s64",
      "userId": "04350791120363313118"
     },
     "user_tz": -120
    },
    "id": "lKT52EsQpBQz",
    "outputId": "7a88fc3e-fbd0-48ff-c27e-132fedce8371"
   },
   "outputs": [
    {
     "data": {
      "image/png": "[encoded data removed]",
      "text/plain": [
       "<Figure size 2160x720 with 2 Axes>"
      ]
     },
     "metadata": {},
     "output_type": "display_data"
    }
   ],
   "source": [
    "train_val_acc_df = pd.DataFrame.from_dict(accuracy_stats['train']).reset_index().melt(id_vars=['index']).rename(columns={\"index\":\"epochs\"})\n",
    "train_val_loss_df = pd.DataFrame.from_dict(loss_stats['train']).reset_index().melt(id_vars=['index']).rename(columns={\"index\":\"epochs\"})\n",
    "\n",
    "fig, axes = plt.subplots(nrows=1, ncols=2, figsize=(30,10))\n",
    "sns.lineplot(data=train_val_acc_df, x = \"epochs\", y=\"value\",  ax=axes[0]).set_title('Train Accuracy/Epoch')\n",
    "sns.lineplot(data=train_val_loss_df, x = \"epochs\", y=\"value\", ax=axes[1]).set_title('Train Loss/Epoch')\n",
    "\n",
    "fig.savefig('/home/jupyter/modelo_clasificador_entrenado_graficas/graficas_loss_accuracy.png')"
   ]
  },
  {
   "cell_type": "code",
   "execution_count": null,
   "metadata": {
    "executionInfo": {
     "elapsed": 24,
     "status": "ok",
     "timestamp": 1623606539642,
     "user": {
      "displayName": "Gonzalo Diez Puebla",
      "photoUrl": "https://lh3.googleusercontent.com/a-/AOh14GiqVinzqmrGGZD4kob8EyBM4_1H8x3A24vYe6NR=s64",
      "userId": "04350791120363313118"
     },
     "user_tz": -120
    },
    "id": "YFN3C1IpTfuV"
   },
   "outputs": [],
   "source": []
  },
  {
   "cell_type": "markdown",
   "metadata": {
    "id": "BoYoNZb9UZzK"
   },
   "source": [
    "# **GUARDAR / CARGAR CLASIFICADOR ENTRENADO**"
   ]
  },
  {
   "cell_type": "code",
   "execution_count": 269,
   "metadata": {
    "executionInfo": {
     "elapsed": 25,
     "status": "ok",
     "timestamp": 1623606539644,
     "user": {
      "displayName": "Gonzalo Diez Puebla",
      "photoUrl": "https://lh3.googleusercontent.com/a-/AOh14GiqVinzqmrGGZD4kob8EyBM4_1H8x3A24vYe6NR=s64",
      "userId": "04350791120363313118"
     },
     "user_tz": -120
    },
    "id": "p92AHKunTfwP"
   },
   "outputs": [],
   "source": [
    "ruta_modelos_clasificador = '/home/jupyter/modelo_clasificador_entrenado'\n",
    "\n",
    "torch.save(model.state_dict(), ruta_modelos_clasificador + \"/clasificador_60epoch_Exploits_desbalanceado93000-200.pt\")"
   ]
  },
  {
   "cell_type": "code",
   "execution_count": null,
   "metadata": {
    "id": "LVdn8IC_bHam"
   },
   "outputs": [],
   "source": []
  },
  {
   "cell_type": "code",
   "execution_count": null,
   "metadata": {
    "colab": {
     "base_uri": "https://localhost:8080/"
    },
    "executionInfo": {
     "elapsed": 541,
     "status": "ok",
     "timestamp": 1623607206757,
     "user": {
      "displayName": "Gonzalo Diez Puebla",
      "photoUrl": "https://lh3.googleusercontent.com/a-/AOh14GiqVinzqmrGGZD4kob8EyBM4_1H8x3A24vYe6NR=s64",
      "userId": "04350791120363313118"
     },
     "user_tz": -120
    },
    "id": "B0kMO7B3TfyE",
    "outputId": "856d66c7-d242-4aa5-a82a-e541d6fc6b4a"
   },
   "outputs": [],
   "source": [
    "ruta_modelos_clasificador = '/home/jupyter/modelo_clasificador_entrenado'\n",
    "\n",
    "model.load_state_dict(torch.load(ruta_modelos_clasificador + \"/clasificador_60epoch_EXPLOITS.pt\"))"
   ]
  },
  {
   "cell_type": "code",
   "execution_count": null,
   "metadata": {
    "id": "Gf1cSo2iTf0M"
   },
   "outputs": [],
   "source": []
  },
  {
   "cell_type": "markdown",
   "metadata": {
    "id": "KnVlVwpXpBQz"
   },
   "source": [
    "## Test\n",
    "\n",
    "After training is done, we need to test how our model fared. Note that we've used `model.eval()` before we run our testing code.\n",
    "To tell PyTorch that we do not want to perform back-propagation during inference, we use `torch.no_grad()`, just like we did it for the validation loop above.\n",
    "\n",
    "* We start by defining a list that will hold our predictions. Then we loop through our batches using the `test_loader`. For each batch -\n",
    "* We move our input mini-batch to GPU.\n",
    "* We make the predictions using our trained model.\n",
    "* Apply log_softmax activation to the predictions and pick the index of highest probability.\n",
    "* Move the batch to the GPU from the CPU.\n",
    "* Convert the tensor to a numpy object and append it to our list."
   ]
  },
  {
   "cell_type": "markdown",
   "metadata": {
    "id": "yrPGUbFLOeQ0"
   },
   "source": [
    "# **VALIDACION CLASIFICADOR**"
   ]
  },
  {
   "cell_type": "code",
   "execution_count": 270,
   "metadata": {
    "colab": {
     "base_uri": "https://localhost:8080/",
     "height": 66,
     "referenced_widgets": [
      "ee2cb8fba817437e8e71a7f69ec54caf",
      "73a00c43c48a4a8badfbbb1692135163",
      "00830a5a858c4060a7a6c505e57d7aa1",
      "dabd32510f2542f3b2f238b826267694",
      "e091b0294cfe4e14978bc4cce3c51db9",
      "8321980268e5420e9e782411a97ac321",
      "d92a1bced82647db80d394c5f485f27d",
      "f1c75ef4e7fb4f7a9caa551dc374afaa"
     ]
    },
    "executionInfo": {
     "elapsed": 134795,
     "status": "ok",
     "timestamp": 1623607344918,
     "user": {
      "displayName": "Gonzalo Diez Puebla",
      "photoUrl": "https://lh3.googleusercontent.com/a-/AOh14GiqVinzqmrGGZD4kob8EyBM4_1H8x3A24vYe6NR=s64",
      "userId": "04350791120363313118"
     },
     "user_tz": -120
    },
    "id": "OWojijd3pBQz",
    "outputId": "fce28f21-a381-4a2b-8536-1aaec3d7e035"
   },
   "outputs": [
    {
     "data": {
      "application/vnd.jupyter.widget-view+json": {
       "model_id": "3e5eb225f61d4f2fa3e11ffe2804da45",
       "version_major": 2,
       "version_minor": 0
      },
      "text/plain": [
       "  0%|          | 0/27960 [00:00<?, ?it/s]"
      ]
     },
     "metadata": {},
     "output_type": "display_data"
    }
   ],
   "source": [
    "y_pred_list = []\n",
    "y_true_list = []\n",
    "\n",
    "with torch.no_grad():\n",
    "    model.eval()\n",
    "    for x_batch, y_batch in tqdm(val_loader):\n",
    "        x_batch, y_batch = x_batch.to(device), y_batch.to(device)\n",
    "        \n",
    "        y_test_pred = model(x_batch)\n",
    "        \n",
    "        y_test_pred = torch.log_softmax(y_test_pred, dim=1)\n",
    "        _, y_pred_tag = torch.max(y_test_pred, dim = 1)\n",
    "    \n",
    "        y_pred_list.append(y_pred_tag.cpu().numpy())\n",
    "        y_true_list.append(y_batch.cpu().numpy())\n",
    "        "
   ]
  },
  {
   "cell_type": "markdown",
   "metadata": {
    "id": "mGHsdvQJpBQ0"
   },
   "source": [
    "We'll flatten out the list so that we can use it as an input to `confusion_matrix` and `classification_report`."
   ]
  },
  {
   "cell_type": "code",
   "execution_count": 271,
   "metadata": {
    "executionInfo": {
     "elapsed": 13,
     "status": "ok",
     "timestamp": 1623607344919,
     "user": {
      "displayName": "Gonzalo Diez Puebla",
      "photoUrl": "https://lh3.googleusercontent.com/a-/AOh14GiqVinzqmrGGZD4kob8EyBM4_1H8x3A24vYe6NR=s64",
      "userId": "04350791120363313118"
     },
     "user_tz": -120
    },
    "id": "pbyEj2hJpBQ0"
   },
   "outputs": [],
   "source": [
    "y_pred_list = [i[0][0][0] for i in y_pred_list]\n",
    "y_true_list = [i[0] for i in y_true_list]"
   ]
  },
  {
   "cell_type": "code",
   "execution_count": 272,
   "metadata": {
    "colab": {
     "base_uri": "https://localhost:8080/"
    },
    "executionInfo": {
     "elapsed": 359,
     "status": "ok",
     "timestamp": 1623607345268,
     "user": {
      "displayName": "Gonzalo Diez Puebla",
      "photoUrl": "https://lh3.googleusercontent.com/a-/AOh14GiqVinzqmrGGZD4kob8EyBM4_1H8x3A24vYe6NR=s64",
      "userId": "04350791120363313118"
     },
     "user_tz": -120
    },
    "id": "Ql5iKwjlpBQ1",
    "outputId": "b14eca1a-e380-4a93-8914-4d7c18820b78"
   },
   "outputs": [
    {
     "name": "stdout",
     "output_type": "stream",
     "text": [
      "                precision    recall  f1-score   support\n",
      "\n",
      "ataques_reales  0.9661017 0.9500000 0.9579832        60\n",
      "        normal  0.9998925 0.9999283 0.9999104     27900\n",
      "\n",
      "      accuracy                      0.9998212     27960\n",
      "     macro avg  0.9829971 0.9749642 0.9789468     27960\n",
      "  weighted avg  0.9998200 0.9998212 0.9998204     27960\n",
      "\n"
     ]
    }
   ],
   "source": [
    "clases = ['ataques_reales', 'normal']\n",
    "\n",
    "print(classification_report(y_true_list, y_pred_list, target_names=clases, digits=7))"
   ]
  },
  {
   "cell_type": "markdown",
   "metadata": {
    "id": "4YP6wgjdpBQ1"
   },
   "source": [
    "# **MATRIZ CONFUSION**"
   ]
  },
  {
   "cell_type": "code",
   "execution_count": 273,
   "metadata": {
    "colab": {
     "base_uri": "https://localhost:8080/"
    },
    "executionInfo": {
     "elapsed": 10,
     "status": "ok",
     "timestamp": 1623607345269,
     "user": {
      "displayName": "Gonzalo Diez Puebla",
      "photoUrl": "https://lh3.googleusercontent.com/a-/AOh14GiqVinzqmrGGZD4kob8EyBM4_1H8x3A24vYe6NR=s64",
      "userId": "04350791120363313118"
     },
     "user_tz": -120
    },
    "id": "3LnQTfUDpBQ1",
    "outputId": "8453c680-c0f9-45f3-d545-098c65704950"
   },
   "outputs": [
    {
     "name": "stdout",
     "output_type": "stream",
     "text": [
      "[[   57     3]\n",
      " [    2 27898]]\n"
     ]
    }
   ],
   "source": [
    "print(confusion_matrix(y_true_list, y_pred_list))"
   ]
  },
  {
   "cell_type": "code",
   "execution_count": 274,
   "metadata": {
    "executionInfo": {
     "elapsed": 7,
     "status": "ok",
     "timestamp": 1623607345270,
     "user": {
      "displayName": "Gonzalo Diez Puebla",
      "photoUrl": "https://lh3.googleusercontent.com/a-/AOh14GiqVinzqmrGGZD4kob8EyBM4_1H8x3A24vYe6NR=s64",
      "userId": "04350791120363313118"
     },
     "user_tz": -120
    },
    "id": "2GOBPBGeOBb-"
   },
   "outputs": [],
   "source": [
    "#Función para representar la matriz de confusión.\n",
    "def pintar_matriz (y_compare,pred):\n",
    "\n",
    "  cm = metrics.confusion_matrix(y_compare, pred)\n",
    "  plot_confusion_matrix(conf_mat=cm,figsize=(14,14), class_names=['ataques_reales', 'normal'], show_normed=True, colorbar=True)\n",
    "  plt.title('Confusing Matrix')\n",
    "  plt.ylabel('Target')\n",
    "  plt.xlabel('Predicted')\n",
    "  plt.savefig(\"/home/jupyter/modelo_clasificador_entrenado_graficas/matriz_confusion_validacion.png\")\n",
    "  plt.show()"
   ]
  },
  {
   "cell_type": "code",
   "execution_count": 275,
   "metadata": {
    "colab": {
     "base_uri": "https://localhost:8080/",
     "height": 810
    },
    "executionInfo": {
     "elapsed": 390,
     "status": "ok",
     "timestamp": 1623607345655,
     "user": {
      "displayName": "Gonzalo Diez Puebla",
      "photoUrl": "https://lh3.googleusercontent.com/a-/AOh14GiqVinzqmrGGZD4kob8EyBM4_1H8x3A24vYe6NR=s64",
      "userId": "04350791120363313118"
     },
     "user_tz": -120
    },
    "id": "ZcwCxrvLOBb_",
    "outputId": "9507fb7f-813c-4ae9-ab92-db7b8cf2161d"
   },
   "outputs": [
    {
     "data": {
      "image/png": "[encoded data removed]",
      "text/plain": [
       "<Figure size 1008x1008 with 2 Axes>"
      ]
     },
     "metadata": {},
     "output_type": "display_data"
    }
   ],
   "source": [
    "pintar_matriz(y_true_list,y_pred_list)"
   ]
  },
  {
   "cell_type": "code",
   "execution_count": null,
   "metadata": {
    "id": "QYgvDnTxDue3"
   },
   "outputs": [],
   "source": []
  },
  {
   "cell_type": "code",
   "execution_count": null,
   "metadata": {},
   "outputs": [],
   "source": []
  },
  {
   "cell_type": "code",
   "execution_count": null,
   "metadata": {},
   "outputs": [],
   "source": [
    "!tar chvfz graficas_clasificador.tar.gz '/home/jupyter/modelo_clasificador_entrenado_graficas'"
   ]
  },
  {
   "cell_type": "code",
   "execution_count": null,
   "metadata": {},
   "outputs": [],
   "source": []
  },
  {
   "cell_type": "code",
   "execution_count": null,
   "metadata": {},
   "outputs": [],
   "source": []
  },
  {
   "cell_type": "code",
   "execution_count": null,
   "metadata": {
    "id": "0UwmKCCxDug-"
   },
   "outputs": [],
   "source": []
  },
  {
   "cell_type": "markdown",
   "metadata": {
    "id": "RYK55LCcDygc"
   },
   "source": [
    "# **TEST**"
   ]
  },
  {
   "cell_type": "code",
   "execution_count": null,
   "metadata": {
    "colab": {
     "base_uri": "https://localhost:8080/",
     "height": 66,
     "referenced_widgets": [
      "a2ef87c247bb49b7aacac30b409fe38f",
      "416b5b9449d54539a519b66101e56834",
      "268ea06629ad402c9b43780e6f664d9c",
      "3a1d87a4bf864888beef31306aec39b7",
      "0850413799734dd2a40d415b63de15d1",
      "70b07ea2d28e42c4aeee7ac1bcb6bc1b",
      "b286a0ba55db4a079a86d2d67a5c8a53",
      "ab410b71d56e487b9d2918a04efb8837"
     ]
    },
    "executionInfo": {
     "elapsed": 386062,
     "status": "ok",
     "timestamp": 1623607731707,
     "user": {
      "displayName": "Gonzalo Diez Puebla",
      "photoUrl": "https://lh3.googleusercontent.com/a-/AOh14GiqVinzqmrGGZD4kob8EyBM4_1H8x3A24vYe6NR=s64",
      "userId": "04350791120363313118"
     },
     "user_tz": -120
    },
    "id": "SPHBTxLqDvhQ",
    "outputId": "e5778fcd-a088-4d15-f3b3-b00b8c95dbf3"
   },
   "outputs": [],
   "source": [
    "y_pred_list2 = []\n",
    "y_true_list2 = []\n",
    "\n",
    "with torch.no_grad():\n",
    "    model.eval()\n",
    "    for x_batch, y_batch in tqdm(test_loader):\n",
    "        x_batch, y_batch = x_batch.to(device), y_batch.to(device)\n",
    "        \n",
    "        y_test_pred = model(x_batch)\n",
    "        \n",
    "        y_test_pred = torch.log_softmax(y_test_pred, dim=1)\n",
    "        _, y_pred_tag = torch.max(y_test_pred, dim = 1)\n",
    "    \n",
    "        y_pred_list2.append(y_pred_tag.cpu().numpy())\n",
    "        y_true_list2.append(y_batch.cpu().numpy())"
   ]
  },
  {
   "cell_type": "code",
   "execution_count": null,
   "metadata": {
    "executionInfo": {
     "elapsed": 30,
     "status": "ok",
     "timestamp": 1623607731709,
     "user": {
      "displayName": "Gonzalo Diez Puebla",
      "photoUrl": "https://lh3.googleusercontent.com/a-/AOh14GiqVinzqmrGGZD4kob8EyBM4_1H8x3A24vYe6NR=s64",
      "userId": "04350791120363313118"
     },
     "user_tz": -120
    },
    "id": "ed8LErFBDvhS"
   },
   "outputs": [],
   "source": [
    "y_pred_list2 = [i[0][0][0] for i in y_pred_list2]\n",
    "y_true_list2 = [i[0] for i in y_true_list2]"
   ]
  },
  {
   "cell_type": "code",
   "execution_count": null,
   "metadata": {
    "colab": {
     "base_uri": "https://localhost:8080/"
    },
    "executionInfo": {
     "elapsed": 25,
     "status": "ok",
     "timestamp": 1623607731711,
     "user": {
      "displayName": "Gonzalo Diez Puebla",
      "photoUrl": "https://lh3.googleusercontent.com/a-/AOh14GiqVinzqmrGGZD4kob8EyBM4_1H8x3A24vYe6NR=s64",
      "userId": "04350791120363313118"
     },
     "user_tz": -120
    },
    "id": "xHrX1SwJG4x_",
    "outputId": "99d03a89-971c-4745-e7ed-468d82e52e4c"
   },
   "outputs": [],
   "source": [
    "hotdog_dataset_test.class_to_idx"
   ]
  },
  {
   "cell_type": "code",
   "execution_count": null,
   "metadata": {
    "colab": {
     "base_uri": "https://localhost:8080/"
    },
    "executionInfo": {
     "elapsed": 20,
     "status": "ok",
     "timestamp": 1623607731712,
     "user": {
      "displayName": "Gonzalo Diez Puebla",
      "photoUrl": "https://lh3.googleusercontent.com/a-/AOh14GiqVinzqmrGGZD4kob8EyBM4_1H8x3A24vYe6NR=s64",
      "userId": "04350791120363313118"
     },
     "user_tz": -120
    },
    "id": "_aD9rFTuDvhS",
    "outputId": "acd761d5-3f1f-47f6-d8d7-09635ec9c682"
   },
   "outputs": [],
   "source": [
    "clases = ['ataques_generados', 'normal']\n",
    "\n",
    "print(classification_report(y_true_list2, y_pred_list2, target_names=clases, digits=7))"
   ]
  },
  {
   "cell_type": "markdown",
   "metadata": {
    "id": "7hB-4LZVN5Yp"
   },
   "source": [
    "# **MATRIZ CONFUSION**"
   ]
  },
  {
   "cell_type": "code",
   "execution_count": null,
   "metadata": {
    "colab": {
     "base_uri": "https://localhost:8080/"
    },
    "executionInfo": {
     "elapsed": 16,
     "status": "ok",
     "timestamp": 1623607731712,
     "user": {
      "displayName": "Gonzalo Diez Puebla",
      "photoUrl": "https://lh3.googleusercontent.com/a-/AOh14GiqVinzqmrGGZD4kob8EyBM4_1H8x3A24vYe6NR=s64",
      "userId": "04350791120363313118"
     },
     "user_tz": -120
    },
    "id": "Y6bhwbiPDvhT",
    "outputId": "7a0eb9d0-a72d-48ac-c4f4-a176c0aca29f"
   },
   "outputs": [],
   "source": [
    "print(confusion_matrix(y_true_list2, y_pred_list2))"
   ]
  },
  {
   "cell_type": "code",
   "execution_count": null,
   "metadata": {
    "executionInfo": {
     "elapsed": 13,
     "status": "ok",
     "timestamp": 1623607731713,
     "user": {
      "displayName": "Gonzalo Diez Puebla",
      "photoUrl": "https://lh3.googleusercontent.com/a-/AOh14GiqVinzqmrGGZD4kob8EyBM4_1H8x3A24vYe6NR=s64",
      "userId": "04350791120363313118"
     },
     "user_tz": -120
    },
    "id": "xsOC_C-xI5sJ"
   },
   "outputs": [],
   "source": [
    "#Función para representar la matriz de confusión.\n",
    "def pintar_matriz (y_compare,pred):\n",
    "\n",
    "  cm = metrics.confusion_matrix(y_compare, pred)\n",
    "  plot_confusion_matrix(conf_mat=cm,figsize=(14,14), class_names=['ataques_generados', 'normal'], show_normed=True, colorbar=True)\n",
    "  plt.title('Confusing Matrix')\n",
    "  plt.ylabel('Target')\n",
    "  plt.xlabel('Predicted')\n",
    "  plt.savefig('/home/jupyter/graficas_entrenamiento_generador/matriz_confusion.png')\n",
    "  plt.show()"
   ]
  },
  {
   "cell_type": "code",
   "execution_count": null,
   "metadata": {
    "colab": {
     "base_uri": "https://localhost:8080/",
     "height": 826
    },
    "executionInfo": {
     "elapsed": 499,
     "status": "ok",
     "timestamp": 1623607732200,
     "user": {
      "displayName": "Gonzalo Diez Puebla",
      "photoUrl": "https://lh3.googleusercontent.com/a-/AOh14GiqVinzqmrGGZD4kob8EyBM4_1H8x3A24vYe6NR=s64",
      "userId": "04350791120363313118"
     },
     "user_tz": -120
    },
    "id": "NyNdBzgCIyhy",
    "outputId": "8b8b16b3-eb33-4ca5-9735-3bf5cb27b8e0"
   },
   "outputs": [],
   "source": [
    "pintar_matriz(y_true_list2,y_pred_list2)"
   ]
  },
  {
   "cell_type": "code",
   "execution_count": null,
   "metadata": {},
   "outputs": [],
   "source": []
  },
  {
   "cell_type": "code",
   "execution_count": null,
   "metadata": {},
   "outputs": [],
   "source": []
  },
  {
   "cell_type": "code",
   "execution_count": null,
   "metadata": {},
   "outputs": [],
   "source": []
  },
  {
   "cell_type": "code",
   "execution_count": null,
   "metadata": {},
   "outputs": [],
   "source": []
  },
  {
   "cell_type": "code",
   "execution_count": null,
   "metadata": {},
   "outputs": [],
   "source": [
    "!ls"
   ]
  },
  {
   "cell_type": "code",
   "execution_count": null,
   "metadata": {},
   "outputs": [],
   "source": [
    "!tar chvfz ataques_generados.tar.gz '/home/jupyter/imagenes_entrenamiento_clasificador/test/ataques_generados'"
   ]
  },
  {
   "cell_type": "code",
   "execution_count": null,
   "metadata": {},
   "outputs": [],
   "source": []
  },
  {
   "cell_type": "code",
   "execution_count": null,
   "metadata": {},
   "outputs": [],
   "source": []
  },
  {
   "cell_type": "code",
   "execution_count": null,
   "metadata": {},
   "outputs": [],
   "source": [
    "img_folder_path = '/home/jupyter/imagenes_entrenamiento_clasificador/test/ataques_generados'\n",
    "dirListing = os.listdir(img_folder_path)\n",
    "\n",
    "print(len(dirListing)) # cuantas imagenes hay en la carpeta"
   ]
  },
  {
   "cell_type": "code",
   "execution_count": null,
   "metadata": {},
   "outputs": [],
   "source": []
  },
  {
   "cell_type": "code",
   "execution_count": null,
   "metadata": {},
   "outputs": [],
   "source": [
    "files = glob.glob('/home/jupyter/imagenes_entrenamiento_clasificador/test/ataques_generados/*')\n",
    "\n",
    "for f in files:\n",
    "    os.remove(f)"
   ]
  },
  {
   "cell_type": "code",
   "execution_count": null,
   "metadata": {},
   "outputs": [],
   "source": []
  }
 ],
 "metadata": {
  "colab": {
   "name": "clasificador imagenes.ipynb",
   "provenance": []
  },
  "environment": {
   "name": "pytorch-gpu.1-8.m71",
   "type": "gcloud",
   "uri": "gcr.io/deeplearning-platform-release/pytorch-gpu.1-8:m71"
  },
  "kernelspec": {
   "display_name": "Python 3",
   "language": "python",
   "name": "python3"
  },
  "language_info": {
   "codemirror_mode": {
    "name": "ipython",
    "version": 3
   },
   "file_extension": ".py",
   "mimetype": "text/x-python",
   "name": "python",
   "nbconvert_exporter": "python",
   "pygments_lexer": "ipython3",
   "version": "3.7.10"
  },
  "widgets": {
   "application/vnd.jupyter.widget-state+json": {
    "00830a5a858c4060a7a6c505e57d7aa1": {
     "model_module": "@jupyter-widgets/controls",
     "model_name": "FloatProgressModel",
     "state": {
      "_dom_classes": [],
      "_model_module": "@jupyter-widgets/controls",
      "_model_module_version": "1.5.0",
      "_model_name": "FloatProgressModel",
      "_view_count": null,
      "_view_module": "@jupyter-widgets/controls",
      "_view_module_version": "1.5.0",
      "_view_name": "ProgressView",
      "bar_style": "success",
      "description": "100%",
      "description_tooltip": null,
      "layout": "IPY_MODEL_8321980268e5420e9e782411a97ac321",
      "max": 700,
      "min": 0,
      "orientation": "horizontal",
      "style": "IPY_MODEL_e091b0294cfe4e14978bc4cce3c51db9",
      "value": 700
     }
    },
    "0850413799734dd2a40d415b63de15d1": {
     "model_module": "@jupyter-widgets/controls",
     "model_name": "ProgressStyleModel",
     "state": {
      "_model_module": "@jupyter-widgets/controls",
      "_model_module_version": "1.5.0",
      "_model_name": "ProgressStyleModel",
      "_view_count": null,
      "_view_module": "@jupyter-widgets/base",
      "_view_module_version": "1.2.0",
      "_view_name": "StyleView",
      "bar_color": null,
      "description_width": "initial"
     }
    },
    "0b24697626fa4d66b9c5f113c3c93230": {
     "model_module": "@jupyter-widgets/base",
     "model_name": "LayoutModel",
     "state": {
      "_model_module": "@jupyter-widgets/base",
      "_model_module_version": "1.2.0",
      "_model_name": "LayoutModel",
      "_view_count": null,
      "_view_module": "@jupyter-widgets/base",
      "_view_module_version": "1.2.0",
      "_view_name": "LayoutView",
      "align_content": null,
      "align_items": null,
      "align_self": null,
      "border": null,
      "bottom": null,
      "display": null,
      "flex": null,
      "flex_flow": null,
      "grid_area": null,
      "grid_auto_columns": null,
      "grid_auto_flow": null,
      "grid_auto_rows": null,
      "grid_column": null,
      "grid_gap": null,
      "grid_row": null,
      "grid_template_areas": null,
      "grid_template_columns": null,
      "grid_template_rows": null,
      "height": null,
      "justify_content": null,
      "justify_items": null,
      "left": null,
      "margin": null,
      "max_height": null,
      "max_width": null,
      "min_height": null,
      "min_width": null,
      "object_fit": null,
      "object_position": null,
      "order": null,
      "overflow": null,
      "overflow_x": null,
      "overflow_y": null,
      "padding": null,
      "right": null,
      "top": null,
      "visibility": null,
      "width": null
     }
    },
    "0ef08f2c7fde47fa95f5e2ffa608db58": {
     "model_module": "@jupyter-widgets/controls",
     "model_name": "HBoxModel",
     "state": {
      "_dom_classes": [],
      "_model_module": "@jupyter-widgets/controls",
      "_model_module_version": "1.5.0",
      "_model_name": "HBoxModel",
      "_view_count": null,
      "_view_module": "@jupyter-widgets/controls",
      "_view_module_version": "1.5.0",
      "_view_name": "HBoxView",
      "box_style": "",
      "children": [
       "IPY_MODEL_3d04b8ba87784575abfa1d91b57d7a93",
       "IPY_MODEL_89e670b1baaf49bf9889880a580f20d3"
      ],
      "layout": "IPY_MODEL_e8f888db6b6a413eaf4563e4b45aecc8"
     }
    },
    "268ea06629ad402c9b43780e6f664d9c": {
     "model_module": "@jupyter-widgets/controls",
     "model_name": "FloatProgressModel",
     "state": {
      "_dom_classes": [],
      "_model_module": "@jupyter-widgets/controls",
      "_model_module_version": "1.5.0",
      "_model_name": "FloatProgressModel",
      "_view_count": null,
      "_view_module": "@jupyter-widgets/controls",
      "_view_module_version": "1.5.0",
      "_view_name": "ProgressView",
      "bar_style": "success",
      "description": "100%",
      "description_tooltip": null,
      "layout": "IPY_MODEL_70b07ea2d28e42c4aeee7ac1bcb6bc1b",
      "max": 2000,
      "min": 0,
      "orientation": "horizontal",
      "style": "IPY_MODEL_0850413799734dd2a40d415b63de15d1",
      "value": 2000
     }
    },
    "3181b551590646e9aff732f239406a99": {
     "model_module": "@jupyter-widgets/controls",
     "model_name": "ProgressStyleModel",
     "state": {
      "_model_module": "@jupyter-widgets/controls",
      "_model_module_version": "1.5.0",
      "_model_name": "ProgressStyleModel",
      "_view_count": null,
      "_view_module": "@jupyter-widgets/base",
      "_view_module_version": "1.2.0",
      "_view_name": "StyleView",
      "bar_color": null,
      "description_width": "initial"
     }
    },
    "3a1d87a4bf864888beef31306aec39b7": {
     "model_module": "@jupyter-widgets/controls",
     "model_name": "HTMLModel",
     "state": {
      "_dom_classes": [],
      "_model_module": "@jupyter-widgets/controls",
      "_model_module_version": "1.5.0",
      "_model_name": "HTMLModel",
      "_view_count": null,
      "_view_module": "@jupyter-widgets/controls",
      "_view_module_version": "1.5.0",
      "_view_name": "HTMLView",
      "description": "",
      "description_tooltip": null,
      "layout": "IPY_MODEL_ab410b71d56e487b9d2918a04efb8837",
      "placeholder": "​",
      "style": "IPY_MODEL_b286a0ba55db4a079a86d2d67a5c8a53",
      "value": " 2000/2000 [06:26&lt;00:00,  5.18it/s]"
     }
    },
    "3d04b8ba87784575abfa1d91b57d7a93": {
     "model_module": "@jupyter-widgets/controls",
     "model_name": "FloatProgressModel",
     "state": {
      "_dom_classes": [],
      "_model_module": "@jupyter-widgets/controls",
      "_model_module_version": "1.5.0",
      "_model_name": "FloatProgressModel",
      "_view_count": null,
      "_view_module": "@jupyter-widgets/controls",
      "_view_module_version": "1.5.0",
      "_view_name": "ProgressView",
      "bar_style": "success",
      "description": "100%",
      "description_tooltip": null,
      "layout": "IPY_MODEL_0b24697626fa4d66b9c5f113c3c93230",
      "max": 50,
      "min": 0,
      "orientation": "horizontal",
      "style": "IPY_MODEL_3181b551590646e9aff732f239406a99",
      "value": 50
     }
    },
    "3ebf80b2d1004fee80576d4fa1f53d82": {
     "model_module": "@jupyter-widgets/base",
     "model_name": "LayoutModel",
     "state": {
      "_model_module": "@jupyter-widgets/base",
      "_model_module_version": "1.2.0",
      "_model_name": "LayoutModel",
      "_view_count": null,
      "_view_module": "@jupyter-widgets/base",
      "_view_module_version": "1.2.0",
      "_view_name": "LayoutView",
      "align_content": null,
      "align_items": null,
      "align_self": null,
      "border": null,
      "bottom": null,
      "display": null,
      "flex": null,
      "flex_flow": null,
      "grid_area": null,
      "grid_auto_columns": null,
      "grid_auto_flow": null,
      "grid_auto_rows": null,
      "grid_column": null,
      "grid_gap": null,
      "grid_row": null,
      "grid_template_areas": null,
      "grid_template_columns": null,
      "grid_template_rows": null,
      "height": null,
      "justify_content": null,
      "justify_items": null,
      "left": null,
      "margin": null,
      "max_height": null,
      "max_width": null,
      "min_height": null,
      "min_width": null,
      "object_fit": null,
      "object_position": null,
      "order": null,
      "overflow": null,
      "overflow_x": null,
      "overflow_y": null,
      "padding": null,
      "right": null,
      "top": null,
      "visibility": null,
      "width": null
     }
    },
    "416b5b9449d54539a519b66101e56834": {
     "model_module": "@jupyter-widgets/base",
     "model_name": "LayoutModel",
     "state": {
      "_model_module": "@jupyter-widgets/base",
      "_model_module_version": "1.2.0",
      "_model_name": "LayoutModel",
      "_view_count": null,
      "_view_module": "@jupyter-widgets/base",
      "_view_module_version": "1.2.0",
      "_view_name": "LayoutView",
      "align_content": null,
      "align_items": null,
      "align_self": null,
      "border": null,
      "bottom": null,
      "display": null,
      "flex": null,
      "flex_flow": null,
      "grid_area": null,
      "grid_auto_columns": null,
      "grid_auto_flow": null,
      "grid_auto_rows": null,
      "grid_column": null,
      "grid_gap": null,
      "grid_row": null,
      "grid_template_areas": null,
      "grid_template_columns": null,
      "grid_template_rows": null,
      "height": null,
      "justify_content": null,
      "justify_items": null,
      "left": null,
      "margin": null,
      "max_height": null,
      "max_width": null,
      "min_height": null,
      "min_width": null,
      "object_fit": null,
      "object_position": null,
      "order": null,
      "overflow": null,
      "overflow_x": null,
      "overflow_y": null,
      "padding": null,
      "right": null,
      "top": null,
      "visibility": null,
      "width": null
     }
    },
    "70b07ea2d28e42c4aeee7ac1bcb6bc1b": {
     "model_module": "@jupyter-widgets/base",
     "model_name": "LayoutModel",
     "state": {
      "_model_module": "@jupyter-widgets/base",
      "_model_module_version": "1.2.0",
      "_model_name": "LayoutModel",
      "_view_count": null,
      "_view_module": "@jupyter-widgets/base",
      "_view_module_version": "1.2.0",
      "_view_name": "LayoutView",
      "align_content": null,
      "align_items": null,
      "align_self": null,
      "border": null,
      "bottom": null,
      "display": null,
      "flex": null,
      "flex_flow": null,
      "grid_area": null,
      "grid_auto_columns": null,
      "grid_auto_flow": null,
      "grid_auto_rows": null,
      "grid_column": null,
      "grid_gap": null,
      "grid_row": null,
      "grid_template_areas": null,
      "grid_template_columns": null,
      "grid_template_rows": null,
      "height": null,
      "justify_content": null,
      "justify_items": null,
      "left": null,
      "margin": null,
      "max_height": null,
      "max_width": null,
      "min_height": null,
      "min_width": null,
      "object_fit": null,
      "object_position": null,
      "order": null,
      "overflow": null,
      "overflow_x": null,
      "overflow_y": null,
      "padding": null,
      "right": null,
      "top": null,
      "visibility": null,
      "width": null
     }
    },
    "73a00c43c48a4a8badfbbb1692135163": {
     "model_module": "@jupyter-widgets/base",
     "model_name": "LayoutModel",
     "state": {
      "_model_module": "@jupyter-widgets/base",
      "_model_module_version": "1.2.0",
      "_model_name": "LayoutModel",
      "_view_count": null,
      "_view_module": "@jupyter-widgets/base",
      "_view_module_version": "1.2.0",
      "_view_name": "LayoutView",
      "align_content": null,
      "align_items": null,
      "align_self": null,
      "border": null,
      "bottom": null,
      "display": null,
      "flex": null,
      "flex_flow": null,
      "grid_area": null,
      "grid_auto_columns": null,
      "grid_auto_flow": null,
      "grid_auto_rows": null,
      "grid_column": null,
      "grid_gap": null,
      "grid_row": null,
      "grid_template_areas": null,
      "grid_template_columns": null,
      "grid_template_rows": null,
      "height": null,
      "justify_content": null,
      "justify_items": null,
      "left": null,
      "margin": null,
      "max_height": null,
      "max_width": null,
      "min_height": null,
      "min_width": null,
      "object_fit": null,
      "object_position": null,
      "order": null,
      "overflow": null,
      "overflow_x": null,
      "overflow_y": null,
      "padding": null,
      "right": null,
      "top": null,
      "visibility": null,
      "width": null
     }
    },
    "8321980268e5420e9e782411a97ac321": {
     "model_module": "@jupyter-widgets/base",
     "model_name": "LayoutModel",
     "state": {
      "_model_module": "@jupyter-widgets/base",
      "_model_module_version": "1.2.0",
      "_model_name": "LayoutModel",
      "_view_count": null,
      "_view_module": "@jupyter-widgets/base",
      "_view_module_version": "1.2.0",
      "_view_name": "LayoutView",
      "align_content": null,
      "align_items": null,
      "align_self": null,
      "border": null,
      "bottom": null,
      "display": null,
      "flex": null,
      "flex_flow": null,
      "grid_area": null,
      "grid_auto_columns": null,
      "grid_auto_flow": null,
      "grid_auto_rows": null,
      "grid_column": null,
      "grid_gap": null,
      "grid_row": null,
      "grid_template_areas": null,
      "grid_template_columns": null,
      "grid_template_rows": null,
      "height": null,
      "justify_content": null,
      "justify_items": null,
      "left": null,
      "margin": null,
      "max_height": null,
      "max_width": null,
      "min_height": null,
      "min_width": null,
      "object_fit": null,
      "object_position": null,
      "order": null,
      "overflow": null,
      "overflow_x": null,
      "overflow_y": null,
      "padding": null,
      "right": null,
      "top": null,
      "visibility": null,
      "width": null
     }
    },
    "89e670b1baaf49bf9889880a580f20d3": {
     "model_module": "@jupyter-widgets/controls",
     "model_name": "HTMLModel",
     "state": {
      "_dom_classes": [],
      "_model_module": "@jupyter-widgets/controls",
      "_model_module_version": "1.5.0",
      "_model_name": "HTMLModel",
      "_view_count": null,
      "_view_module": "@jupyter-widgets/controls",
      "_view_module_version": "1.5.0",
      "_view_name": "HTMLView",
      "description": "",
      "description_tooltip": null,
      "layout": "IPY_MODEL_3ebf80b2d1004fee80576d4fa1f53d82",
      "placeholder": "​",
      "style": "IPY_MODEL_a956c108612445cf9d6eff02a0b9b045",
      "value": " 50/50 [08:46&lt;00:00, 10.53s/it]"
     }
    },
    "a2ef87c247bb49b7aacac30b409fe38f": {
     "model_module": "@jupyter-widgets/controls",
     "model_name": "HBoxModel",
     "state": {
      "_dom_classes": [],
      "_model_module": "@jupyter-widgets/controls",
      "_model_module_version": "1.5.0",
      "_model_name": "HBoxModel",
      "_view_count": null,
      "_view_module": "@jupyter-widgets/controls",
      "_view_module_version": "1.5.0",
      "_view_name": "HBoxView",
      "box_style": "",
      "children": [
       "IPY_MODEL_268ea06629ad402c9b43780e6f664d9c",
       "IPY_MODEL_3a1d87a4bf864888beef31306aec39b7"
      ],
      "layout": "IPY_MODEL_416b5b9449d54539a519b66101e56834"
     }
    },
    "a956c108612445cf9d6eff02a0b9b045": {
     "model_module": "@jupyter-widgets/controls",
     "model_name": "DescriptionStyleModel",
     "state": {
      "_model_module": "@jupyter-widgets/controls",
      "_model_module_version": "1.5.0",
      "_model_name": "DescriptionStyleModel",
      "_view_count": null,
      "_view_module": "@jupyter-widgets/base",
      "_view_module_version": "1.2.0",
      "_view_name": "StyleView",
      "description_width": ""
     }
    },
    "ab410b71d56e487b9d2918a04efb8837": {
     "model_module": "@jupyter-widgets/base",
     "model_name": "LayoutModel",
     "state": {
      "_model_module": "@jupyter-widgets/base",
      "_model_module_version": "1.2.0",
      "_model_name": "LayoutModel",
      "_view_count": null,
      "_view_module": "@jupyter-widgets/base",
      "_view_module_version": "1.2.0",
      "_view_name": "LayoutView",
      "align_content": null,
      "align_items": null,
      "align_self": null,
      "border": null,
      "bottom": null,
      "display": null,
      "flex": null,
      "flex_flow": null,
      "grid_area": null,
      "grid_auto_columns": null,
      "grid_auto_flow": null,
      "grid_auto_rows": null,
      "grid_column": null,
      "grid_gap": null,
      "grid_row": null,
      "grid_template_areas": null,
      "grid_template_columns": null,
      "grid_template_rows": null,
      "height": null,
      "justify_content": null,
      "justify_items": null,
      "left": null,
      "margin": null,
      "max_height": null,
      "max_width": null,
      "min_height": null,
      "min_width": null,
      "object_fit": null,
      "object_position": null,
      "order": null,
      "overflow": null,
      "overflow_x": null,
      "overflow_y": null,
      "padding": null,
      "right": null,
      "top": null,
      "visibility": null,
      "width": null
     }
    },
    "b286a0ba55db4a079a86d2d67a5c8a53": {
     "model_module": "@jupyter-widgets/controls",
     "model_name": "DescriptionStyleModel",
     "state": {
      "_model_module": "@jupyter-widgets/controls",
      "_model_module_version": "1.5.0",
      "_model_name": "DescriptionStyleModel",
      "_view_count": null,
      "_view_module": "@jupyter-widgets/base",
      "_view_module_version": "1.2.0",
      "_view_name": "StyleView",
      "description_width": ""
     }
    },
    "d92a1bced82647db80d394c5f485f27d": {
     "model_module": "@jupyter-widgets/controls",
     "model_name": "DescriptionStyleModel",
     "state": {
      "_model_module": "@jupyter-widgets/controls",
      "_model_module_version": "1.5.0",
      "_model_name": "DescriptionStyleModel",
      "_view_count": null,
      "_view_module": "@jupyter-widgets/base",
      "_view_module_version": "1.2.0",
      "_view_name": "StyleView",
      "description_width": ""
     }
    },
    "dabd32510f2542f3b2f238b826267694": {
     "model_module": "@jupyter-widgets/controls",
     "model_name": "HTMLModel",
     "state": {
      "_dom_classes": [],
      "_model_module": "@jupyter-widgets/controls",
      "_model_module_version": "1.5.0",
      "_model_name": "HTMLModel",
      "_view_count": null,
      "_view_module": "@jupyter-widgets/controls",
      "_view_module_version": "1.5.0",
      "_view_name": "HTMLView",
      "description": "",
      "description_tooltip": null,
      "layout": "IPY_MODEL_f1c75ef4e7fb4f7a9caa551dc374afaa",
      "placeholder": "​",
      "style": "IPY_MODEL_d92a1bced82647db80d394c5f485f27d",
      "value": " 700/700 [02:14&lt;00:00,  5.19it/s]"
     }
    },
    "e091b0294cfe4e14978bc4cce3c51db9": {
     "model_module": "@jupyter-widgets/controls",
     "model_name": "ProgressStyleModel",
     "state": {
      "_model_module": "@jupyter-widgets/controls",
      "_model_module_version": "1.5.0",
      "_model_name": "ProgressStyleModel",
      "_view_count": null,
      "_view_module": "@jupyter-widgets/base",
      "_view_module_version": "1.2.0",
      "_view_name": "StyleView",
      "bar_color": null,
      "description_width": "initial"
     }
    },
    "e8f888db6b6a413eaf4563e4b45aecc8": {
     "model_module": "@jupyter-widgets/base",
     "model_name": "LayoutModel",
     "state": {
      "_model_module": "@jupyter-widgets/base",
      "_model_module_version": "1.2.0",
      "_model_name": "LayoutModel",
      "_view_count": null,
      "_view_module": "@jupyter-widgets/base",
      "_view_module_version": "1.2.0",
      "_view_name": "LayoutView",
      "align_content": null,
      "align_items": null,
      "align_self": null,
      "border": null,
      "bottom": null,
      "display": null,
      "flex": null,
      "flex_flow": null,
      "grid_area": null,
      "grid_auto_columns": null,
      "grid_auto_flow": null,
      "grid_auto_rows": null,
      "grid_column": null,
      "grid_gap": null,
      "grid_row": null,
      "grid_template_areas": null,
      "grid_template_columns": null,
      "grid_template_rows": null,
      "height": null,
      "justify_content": null,
      "justify_items": null,
      "left": null,
      "margin": null,
      "max_height": null,
      "max_width": null,
      "min_height": null,
      "min_width": null,
      "object_fit": null,
      "object_position": null,
      "order": null,
      "overflow": null,
      "overflow_x": null,
      "overflow_y": null,
      "padding": null,
      "right": null,
      "top": null,
      "visibility": null,
      "width": null
     }
    },
    "ee2cb8fba817437e8e71a7f69ec54caf": {
     "model_module": "@jupyter-widgets/controls",
     "model_name": "HBoxModel",
     "state": {
      "_dom_classes": [],
      "_model_module": "@jupyter-widgets/controls",
      "_model_module_version": "1.5.0",
      "_model_name": "HBoxModel",
      "_view_count": null,
      "_view_module": "@jupyter-widgets/controls",
      "_view_module_version": "1.5.0",
      "_view_name": "HBoxView",
      "box_style": "",
      "children": [
       "IPY_MODEL_00830a5a858c4060a7a6c505e57d7aa1",
       "IPY_MODEL_dabd32510f2542f3b2f238b826267694"
      ],
      "layout": "IPY_MODEL_73a00c43c48a4a8badfbbb1692135163"
     }
    },
    "f1c75ef4e7fb4f7a9caa551dc374afaa": {
     "model_module": "@jupyter-widgets/base",
     "model_name": "LayoutModel",
     "state": {
      "_model_module": "@jupyter-widgets/base",
      "_model_module_version": "1.2.0",
      "_model_name": "LayoutModel",
      "_view_count": null,
      "_view_module": "@jupyter-widgets/base",
      "_view_module_version": "1.2.0",
      "_view_name": "LayoutView",
      "align_content": null,
      "align_items": null,
      "align_self": null,
      "border": null,
      "bottom": null,
      "display": null,
      "flex": null,
      "flex_flow": null,
      "grid_area": null,
      "grid_auto_columns": null,
      "grid_auto_flow": null,
      "grid_auto_rows": null,
      "grid_column": null,
      "grid_gap": null,
      "grid_row": null,
      "grid_template_areas": null,
      "grid_template_columns": null,
      "grid_template_rows": null,
      "height": null,
      "justify_content": null,
      "justify_items": null,
      "left": null,
      "margin": null,
      "max_height": null,
      "max_width": null,
      "min_height": null,
      "min_width": null,
      "object_fit": null,
      "object_position": null,
      "order": null,
      "overflow": null,
      "overflow_x": null,
      "overflow_y": null,
      "padding": null,
      "right": null,
      "top": null,
      "visibility": null,
      "width": null
     }
    }
   }
  }
 },
 "nbformat": 4,
 "nbformat_minor": 4
}
