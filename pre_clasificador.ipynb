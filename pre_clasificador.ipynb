{
 "cells": [
  {
   "cell_type": "code",
   "execution_count": 1,
   "metadata": {},
   "outputs": [
    {
     "name": "stdout",
     "output_type": "stream",
     "text": [
      "Requirement already satisfied: tensorflow in /opt/conda/lib/python3.7/site-packages (2.5.0)\n",
      "Requirement already satisfied: absl-py~=0.10 in /opt/conda/lib/python3.7/site-packages (from tensorflow) (0.12.0)\n",
      "Requirement already satisfied: keras-nightly~=2.5.0.dev in /opt/conda/lib/python3.7/site-packages (from tensorflow) (2.5.0.dev2021032900)\n",
      "Requirement already satisfied: keras-preprocessing~=1.1.2 in /opt/conda/lib/python3.7/site-packages (from tensorflow) (1.1.2)\n",
      "Requirement already satisfied: tensorboard~=2.5 in /opt/conda/lib/python3.7/site-packages (from tensorflow) (2.5.0)\n",
      "Requirement already satisfied: numpy~=1.19.2 in /opt/conda/lib/python3.7/site-packages (from tensorflow) (1.19.5)\n",
      "Requirement already satisfied: termcolor~=1.1.0 in /opt/conda/lib/python3.7/site-packages (from tensorflow) (1.1.0)\n",
      "Requirement already satisfied: wheel~=0.35 in /opt/conda/lib/python3.7/site-packages (from tensorflow) (0.36.2)\n",
      "Requirement already satisfied: flatbuffers~=1.12.0 in /opt/conda/lib/python3.7/site-packages (from tensorflow) (1.12)\n",
      "Requirement already satisfied: gast==0.4.0 in /opt/conda/lib/python3.7/site-packages (from tensorflow) (0.4.0)\n",
      "Requirement already satisfied: opt-einsum~=3.3.0 in /opt/conda/lib/python3.7/site-packages (from tensorflow) (3.3.0)\n",
      "Requirement already satisfied: wrapt~=1.12.1 in /opt/conda/lib/python3.7/site-packages (from tensorflow) (1.12.1)\n",
      "Requirement already satisfied: grpcio~=1.34.0 in /opt/conda/lib/python3.7/site-packages (from tensorflow) (1.34.1)\n",
      "Requirement already satisfied: six~=1.15.0 in /opt/conda/lib/python3.7/site-packages (from tensorflow) (1.15.0)\n",
      "Requirement already satisfied: protobuf>=3.9.2 in /opt/conda/lib/python3.7/site-packages (from tensorflow) (3.16.0)\n",
      "Requirement already satisfied: astunparse~=1.6.3 in /opt/conda/lib/python3.7/site-packages (from tensorflow) (1.6.3)\n",
      "Requirement already satisfied: h5py~=3.1.0 in /opt/conda/lib/python3.7/site-packages (from tensorflow) (3.1.0)\n",
      "Requirement already satisfied: typing-extensions~=3.7.4 in /opt/conda/lib/python3.7/site-packages (from tensorflow) (3.7.4.3)\n",
      "Requirement already satisfied: google-pasta~=0.2 in /opt/conda/lib/python3.7/site-packages (from tensorflow) (0.2.0)\n",
      "Requirement already satisfied: tensorflow-estimator<2.6.0,>=2.5.0rc0 in /opt/conda/lib/python3.7/site-packages (from tensorflow) (2.5.0)\n",
      "Requirement already satisfied: cached-property in /opt/conda/lib/python3.7/site-packages (from h5py~=3.1.0->tensorflow) (1.5.2)\n",
      "Requirement already satisfied: google-auth<2,>=1.6.3 in /opt/conda/lib/python3.7/site-packages (from tensorboard~=2.5->tensorflow) (1.30.0)\n",
      "Requirement already satisfied: markdown>=2.6.8 in /opt/conda/lib/python3.7/site-packages (from tensorboard~=2.5->tensorflow) (3.3.4)\n",
      "Requirement already satisfied: tensorboard-data-server<0.7.0,>=0.6.0 in /opt/conda/lib/python3.7/site-packages (from tensorboard~=2.5->tensorflow) (0.6.1)\n",
      "Requirement already satisfied: werkzeug>=0.11.15 in /opt/conda/lib/python3.7/site-packages (from tensorboard~=2.5->tensorflow) (2.0.1)\n",
      "Requirement already satisfied: google-auth-oauthlib<0.5,>=0.4.1 in /opt/conda/lib/python3.7/site-packages (from tensorboard~=2.5->tensorflow) (0.4.4)\n",
      "Requirement already satisfied: requests<3,>=2.21.0 in /opt/conda/lib/python3.7/site-packages (from tensorboard~=2.5->tensorflow) (2.25.1)\n",
      "Requirement already satisfied: setuptools>=41.0.0 in /opt/conda/lib/python3.7/site-packages (from tensorboard~=2.5->tensorflow) (49.6.0.post20210108)\n",
      "Requirement already satisfied: tensorboard-plugin-wit>=1.6.0 in /opt/conda/lib/python3.7/site-packages (from tensorboard~=2.5->tensorflow) (1.8.0)\n",
      "Requirement already satisfied: pyasn1-modules>=0.2.1 in /opt/conda/lib/python3.7/site-packages (from google-auth<2,>=1.6.3->tensorboard~=2.5->tensorflow) (0.2.7)\n",
      "Requirement already satisfied: cachetools<5.0,>=2.0.0 in /opt/conda/lib/python3.7/site-packages (from google-auth<2,>=1.6.3->tensorboard~=2.5->tensorflow) (4.2.2)\n",
      "Requirement already satisfied: rsa<5,>=3.1.4 in /opt/conda/lib/python3.7/site-packages (from google-auth<2,>=1.6.3->tensorboard~=2.5->tensorflow) (4.7.2)\n",
      "Requirement already satisfied: requests-oauthlib>=0.7.0 in /opt/conda/lib/python3.7/site-packages (from google-auth-oauthlib<0.5,>=0.4.1->tensorboard~=2.5->tensorflow) (1.3.0)\n",
      "Requirement already satisfied: importlib-metadata in /opt/conda/lib/python3.7/site-packages (from markdown>=2.6.8->tensorboard~=2.5->tensorflow) (4.2.0)\n",
      "Requirement already satisfied: pyasn1<0.5.0,>=0.4.6 in /opt/conda/lib/python3.7/site-packages (from pyasn1-modules>=0.2.1->google-auth<2,>=1.6.3->tensorboard~=2.5->tensorflow) (0.4.8)\n",
      "Requirement already satisfied: idna<3,>=2.5 in /opt/conda/lib/python3.7/site-packages (from requests<3,>=2.21.0->tensorboard~=2.5->tensorflow) (2.10)\n",
      "Requirement already satisfied: urllib3<1.27,>=1.21.1 in /opt/conda/lib/python3.7/site-packages (from requests<3,>=2.21.0->tensorboard~=2.5->tensorflow) (1.26.5)\n",
      "Requirement already satisfied: chardet<5,>=3.0.2 in /opt/conda/lib/python3.7/site-packages (from requests<3,>=2.21.0->tensorboard~=2.5->tensorflow) (4.0.0)\n",
      "Requirement already satisfied: certifi>=2017.4.17 in /opt/conda/lib/python3.7/site-packages (from requests<3,>=2.21.0->tensorboard~=2.5->tensorflow) (2020.12.5)\n",
      "Requirement already satisfied: oauthlib>=3.0.0 in /opt/conda/lib/python3.7/site-packages (from requests-oauthlib>=0.7.0->google-auth-oauthlib<0.5,>=0.4.1->tensorboard~=2.5->tensorflow) (3.0.1)\n",
      "Requirement already satisfied: zipp>=0.5 in /opt/conda/lib/python3.7/site-packages (from importlib-metadata->markdown>=2.6.8->tensorboard~=2.5->tensorflow) (3.4.1)\n"
     ]
    }
   ],
   "source": [
    "!pip install tensorflow"
   ]
  },
  {
   "cell_type": "code",
   "execution_count": 2,
   "metadata": {},
   "outputs": [
    {
     "name": "stdout",
     "output_type": "stream",
     "text": [
      "Requirement already satisfied: mlxtend in /opt/conda/lib/python3.7/site-packages (0.18.0)\n"
     ]
    }
   ],
   "source": [
    "!pip install mlxtend --upgrade --no-deps"
   ]
  },
  {
   "cell_type": "code",
   "execution_count": 3,
   "metadata": {
    "colab": {
     "base_uri": "https://localhost:8080/"
    },
    "id": "Q66lD2RQkH8-",
    "outputId": "50a32fa4-8d62-4efc-9e2d-fcc541b0e6de"
   },
   "outputs": [],
   "source": [
    "import os\n",
    "import glob\n",
    "import shutil\n",
    "\n",
    "import tensorflow as tf\n",
    "from tensorflow import keras\n",
    "from tensorflow.keras import layers\n",
    "\n",
    "#Importamos los paquetes necesarios para el proyecto\n",
    "import pandas as pd\n",
    "import numpy as np\n",
    "import matplotlib.pyplot as plt\n",
    "from tensorflow.keras.utils import get_file\n",
    "from sklearn import preprocessing\n",
    "from sklearn.preprocessing import LabelEncoder\n",
    "from PIL import Image\n",
    "from sklearn.model_selection import StratifiedShuffleSplit\n",
    "from sklearn import metrics\n",
    "from keras import backend as K\n",
    "from keras.utils.generic_utils import get_custom_objects\n",
    "#from bayes_opt import BayesianOptimization\n",
    "from sklearn.model_selection import StratifiedKFold\n",
    "from mlxtend.plotting import plot_confusion_matrix\n",
    "from sklearn.model_selection import train_test_split\n",
    "#from imblearn.over_sampling import SMOTE\n",
    "\n",
    "from tensorflow.keras.models import Sequential,Model, load_model\n",
    "from tensorflow.keras.layers import Dense, Conv2D,LSTM, MaxPooling2D,UpSampling2D,Conv2DTranspose, Dropout, Flatten, Activation, LeakyReLU, ReLU, Input,concatenate,BatchNormalization\n",
    "from tensorflow.keras.optimizers import Adam\n",
    "from keras.regularizers import l1\n",
    "from tensorflow.keras.callbacks import EarlyStopping\n",
    "\n",
    "from time import perf_counter\n",
    "from datetime import timedelta\n",
    "\n",
    "import numpy as np\n",
    "#import cv2\n",
    "import matplotlib.pyplot as plt\n",
    "import os\n",
    "import torch\n",
    "import torch.nn as nn\n",
    "#import tensorboardX\n",
    "from torch.autograd import grad\n",
    "from torch.autograd import Variable\n",
    "import torchvision\n",
    "import torchvision.transforms as transforms\n",
    "import shutil\n",
    "import statistics as st\n",
    "\n"
   ]
  },
  {
   "cell_type": "code",
   "execution_count": 4,
   "metadata": {
    "colab": {
     "base_uri": "https://localhost:8080/"
    },
    "id": "5FYnKBGzkWD-",
    "outputId": "54f81a8b-63f9-4b10-a29d-06ab901f0847"
   },
   "outputs": [],
   "source": [
    "#from google.colab import drive\n",
    "#drive.mount('/content/drive')\n",
    "\n",
    "#!ls \"/content/drive/My Drive/TFG\""
   ]
  },
  {
   "cell_type": "markdown",
   "metadata": {
    "id": "L7ZDwezpmY0Q"
   },
   "source": [
    "# **VACIAR CARPETA TRAIN**"
   ]
  },
  {
   "cell_type": "code",
   "execution_count": 128,
   "metadata": {
    "colab": {
     "base_uri": "https://localhost:8080/"
    },
    "id": "B2471c1g3po4",
    "outputId": "09649ede-c947-461f-ae6c-27718fbc3fe0"
   },
   "outputs": [
    {
     "name": "stdout",
     "output_type": "stream",
     "text": [
      "93000\n"
     ]
    }
   ],
   "source": [
    "img_folder_path = '/home/jupyter/imagenes_entrenamiento_clasificador/train/normal'\n",
    "dirListing = os.listdir(img_folder_path)\n",
    "\n",
    "print(len(dirListing)) # cuantas imagenes hay en la carpeta"
   ]
  },
  {
   "cell_type": "code",
   "execution_count": 94,
   "metadata": {
    "id": "e1liUBMykQ8x"
   },
   "outputs": [],
   "source": [
    "files = glob.glob('/home/jupyter/imagenes_entrenamiento_clasificador/train/normal/*')\n",
    "\n",
    "for f in files:\n",
    "    os.remove(f)"
   ]
  },
  {
   "cell_type": "markdown",
   "metadata": {},
   "source": [
    "# **--------------**"
   ]
  },
  {
   "cell_type": "code",
   "execution_count": 129,
   "metadata": {
    "id": "el3QQu623q0O"
   },
   "outputs": [
    {
     "name": "stdout",
     "output_type": "stream",
     "text": [
      "200\n"
     ]
    }
   ],
   "source": [
    "img_folder_path = '/home/jupyter/imagenes_entrenamiento_clasificador/train/ataques_reales'\n",
    "dirListing = os.listdir(img_folder_path)\n",
    "\n",
    "print(len(dirListing)) # cuantas imagenes hay en la carpeta"
   ]
  },
  {
   "cell_type": "code",
   "execution_count": null,
   "metadata": {},
   "outputs": [],
   "source": [
    "ls '/home/jupyter/imagenes_entrenamiento_clasificador/train/ataques_reales'"
   ]
  },
  {
   "cell_type": "code",
   "execution_count": 97,
   "metadata": {
    "id": "HmvZs3oVkUx0"
   },
   "outputs": [],
   "source": [
    "files = glob.glob('/home/jupyter/imagenes_entrenamiento_clasificador/train/ataques_reales/*')\n",
    "\n",
    "for f in files:\n",
    "    os.remove(f)"
   ]
  },
  {
   "cell_type": "markdown",
   "metadata": {
    "id": "IXH_Gs3Wmb-w"
   },
   "source": [
    "# **VACIAR CARPETA TEST**"
   ]
  },
  {
   "cell_type": "code",
   "execution_count": null,
   "metadata": {},
   "outputs": [],
   "source": [
    "img_folder_path = '/home/jupyter/imagenes_entrenamiento_clasificador/test/normal'\n",
    "dirListing = os.listdir(img_folder_path)\n",
    "\n",
    "print(len(dirListing)) # cuantas imagenes hay en la carpeta"
   ]
  },
  {
   "cell_type": "code",
   "execution_count": null,
   "metadata": {
    "id": "O1_RrOCUlghB"
   },
   "outputs": [],
   "source": [
    "files = glob.glob('/home/jupyter/imagenes_entrenamiento_clasificador/test/normal/*')\n",
    "\n",
    "for f in files:\n",
    "    os.remove(f)"
   ]
  },
  {
   "cell_type": "markdown",
   "metadata": {},
   "source": [
    "# **--------------**"
   ]
  },
  {
   "cell_type": "code",
   "execution_count": null,
   "metadata": {},
   "outputs": [],
   "source": [
    "img_folder_path = '/home/jupyter/imagenes_entrenamiento_clasificador/test/ataques_generados'\n",
    "dirListing = os.listdir(img_folder_path)\n",
    "\n",
    "print(len(dirListing)) # cuantas imagenes hay en la carpeta"
   ]
  },
  {
   "cell_type": "code",
   "execution_count": null,
   "metadata": {
    "id": "niiVlzdtlgjD"
   },
   "outputs": [],
   "source": [
    "files = glob.glob('/home/jupyter/imagenes_entrenamiento_clasificador/test/ataques_generados/*')\n",
    "\n",
    "for f in files:\n",
    "    os.remove(f)"
   ]
  },
  {
   "cell_type": "code",
   "execution_count": null,
   "metadata": {},
   "outputs": [],
   "source": []
  },
  {
   "cell_type": "code",
   "execution_count": null,
   "metadata": {},
   "outputs": [],
   "source": []
  },
  {
   "cell_type": "code",
   "execution_count": null,
   "metadata": {},
   "outputs": [],
   "source": []
  },
  {
   "cell_type": "markdown",
   "metadata": {},
   "source": [
    "# **DESCARGAR CARPETAS ENTRENAMIENTO GENERADOR**"
   ]
  },
  {
   "cell_type": "code",
   "execution_count": null,
   "metadata": {},
   "outputs": [],
   "source": [
    "!tar chvfz archivos_generador.tar.gz \"/home/jupyter/imagenes_epoch\" \"/home/jupyter/graficas_entrenamiento_generador\" \"/home/jupyter/imagenes_entrenamiento_clasificador/test/ataques_generados\""
   ]
  },
  {
   "cell_type": "code",
   "execution_count": null,
   "metadata": {},
   "outputs": [],
   "source": [
    "!tar chvfz archivos_generador.tar.gz \"/home/jupyter/imagenes_epoch\" \"/home/jupyter/graficas_entrenamiento_generador\""
   ]
  },
  {
   "cell_type": "code",
   "execution_count": null,
   "metadata": {},
   "outputs": [],
   "source": [
    "!tar chvfz archivos_generador.tar.gz \"/home/jupyter/imagenes_epoch\""
   ]
  },
  {
   "cell_type": "code",
   "execution_count": null,
   "metadata": {},
   "outputs": [],
   "source": [
    "!tar chvfz archivos_generador.tar.gz \"/home/jupyter/graficas_entrenamiento_generador\""
   ]
  },
  {
   "cell_type": "markdown",
   "metadata": {
    "id": "-uiiDKFplgm7"
   },
   "source": [
    "# **VACIAR CARPETAS ENTRENAMIENTO GENERADOR**"
   ]
  },
  {
   "cell_type": "code",
   "execution_count": null,
   "metadata": {},
   "outputs": [],
   "source": [
    "img_folder_path = \"/home/jupyter/imagenes_entrenamiento_generador/img\"\n",
    "dirListing = os.listdir(img_folder_path)\n",
    "\n",
    "print(len(dirListing)) # cuantas imagenes hay en la carpeta"
   ]
  },
  {
   "cell_type": "code",
   "execution_count": null,
   "metadata": {
    "id": "FaBOUd1OnAhX"
   },
   "outputs": [],
   "source": [
    "files = glob.glob(\"/home/jupyter/imagenes_entrenamiento_generador/img/*\")\n",
    "\n",
    "for f in files:\n",
    "    os.remove(f)"
   ]
  },
  {
   "cell_type": "code",
   "execution_count": null,
   "metadata": {},
   "outputs": [],
   "source": [
    "shutil.rmtree('/home/jupyter/imagenes_entrenamiento_generador/img/.ipynb_checkpoints')"
   ]
  },
  {
   "cell_type": "markdown",
   "metadata": {},
   "source": [
    "# **--------------**"
   ]
  },
  {
   "cell_type": "code",
   "execution_count": null,
   "metadata": {},
   "outputs": [],
   "source": [
    "img_folder_path = \"/home/jupyter/imagenes_epoch\"\n",
    "dirListing = os.listdir(img_folder_path)\n",
    "\n",
    "print(len(dirListing)) # cuantas imagenes hay en la carpeta"
   ]
  },
  {
   "cell_type": "code",
   "execution_count": null,
   "metadata": {},
   "outputs": [],
   "source": [
    "!ls -la \"/home/jupyter/imagenes_epoch\""
   ]
  },
  {
   "cell_type": "code",
   "execution_count": null,
   "metadata": {
    "id": "gCeygas5nAjN"
   },
   "outputs": [],
   "source": [
    "files = glob.glob(\"/home/jupyter/imagenes_epoch/*\")\n",
    "\n",
    "for f in files:\n",
    "    os.remove(f)"
   ]
  },
  {
   "cell_type": "code",
   "execution_count": null,
   "metadata": {},
   "outputs": [],
   "source": [
    "shutil.rmtree('/home/jupyter/imagenes_epoch/.ipynb_checkpoints')"
   ]
  },
  {
   "cell_type": "markdown",
   "metadata": {},
   "source": [
    "# **--------------**"
   ]
  },
  {
   "cell_type": "code",
   "execution_count": null,
   "metadata": {},
   "outputs": [],
   "source": [
    "img_folder_path = \"/home/jupyter/checkpoint\"\n",
    "dirListing = os.listdir(img_folder_path)\n",
    "\n",
    "print(len(dirListing)) # cuantas imagenes hay en la carpeta"
   ]
  },
  {
   "cell_type": "code",
   "execution_count": null,
   "metadata": {},
   "outputs": [],
   "source": [
    "!ls -la \"/home/jupyter/checkpoint\""
   ]
  },
  {
   "cell_type": "code",
   "execution_count": null,
   "metadata": {},
   "outputs": [],
   "source": [
    "!tar chvfz checkpoints.tar.gz \"/home/jupyter/checkpoint\""
   ]
  },
  {
   "cell_type": "code",
   "execution_count": null,
   "metadata": {
    "id": "RiySEmaZnAlD"
   },
   "outputs": [],
   "source": [
    "files = glob.glob(\"/home/jupyter/checkpoint/*\")\n",
    "\n",
    "for f in files:\n",
    "    os.remove(f)"
   ]
  },
  {
   "cell_type": "code",
   "execution_count": null,
   "metadata": {},
   "outputs": [],
   "source": [
    "os.rmdir('/home/jupyter/checkpoint/.ipynb_checkpoints')"
   ]
  },
  {
   "cell_type": "code",
   "execution_count": null,
   "metadata": {},
   "outputs": [],
   "source": [
    "shutil.rmtree('/home/jupyter/checkpoint/.ipynb_checkpoints')"
   ]
  },
  {
   "cell_type": "markdown",
   "metadata": {},
   "source": [
    "# **--------------**"
   ]
  },
  {
   "cell_type": "code",
   "execution_count": null,
   "metadata": {},
   "outputs": [],
   "source": [
    "img_folder_path = \"/home/jupyter/summary\"\n",
    "dirListing = os.listdir(img_folder_path)\n",
    "\n",
    "print(len(dirListing)) # cuantas imagenes hay en la carpeta"
   ]
  },
  {
   "cell_type": "code",
   "execution_count": null,
   "metadata": {},
   "outputs": [],
   "source": [
    "files = glob.glob(\"/home/jupyter/summary/*\")\n",
    "\n",
    "for f in files:\n",
    "    os.remove(f)"
   ]
  },
  {
   "cell_type": "markdown",
   "metadata": {},
   "source": [
    "# **--------------**"
   ]
  },
  {
   "cell_type": "code",
   "execution_count": null,
   "metadata": {},
   "outputs": [],
   "source": [
    "img_folder_path = \"/home/jupyter/graficas_entrenamiento_generador\"\n",
    "dirListing = os.listdir(img_folder_path)\n",
    "\n",
    "print(len(dirListing)) # cuantas imagenes hay en la carpeta"
   ]
  },
  {
   "cell_type": "code",
   "execution_count": null,
   "metadata": {},
   "outputs": [],
   "source": [
    "files = glob.glob(\"/home/jupyter/graficas_entrenamiento_generador/*\")\n",
    "\n",
    "for f in files:\n",
    "    os.remove(f)"
   ]
  },
  {
   "cell_type": "code",
   "execution_count": null,
   "metadata": {},
   "outputs": [],
   "source": [
    "shutil.rmtree(\"/home/jupyter/graficas_entrenamiento_generador/.ipynb_checkpoints\")"
   ]
  },
  {
   "cell_type": "code",
   "execution_count": null,
   "metadata": {},
   "outputs": [],
   "source": [
    "!ls -la \"/home/jupyter/graficas_entrenamiento_generador\""
   ]
  },
  {
   "cell_type": "markdown",
   "metadata": {},
   "source": [
    "# **--------------**"
   ]
  },
  {
   "cell_type": "code",
   "execution_count": null,
   "metadata": {},
   "outputs": [],
   "source": [
    "img_folder_path = \"/home/jupyter/arrays_loss\"\n",
    "dirListing = os.listdir(img_folder_path)\n",
    "\n",
    "print(len(dirListing)) # cuantas imagenes hay en la carpeta"
   ]
  },
  {
   "cell_type": "code",
   "execution_count": null,
   "metadata": {},
   "outputs": [],
   "source": [
    "files = glob.glob(\"/home/jupyter/arrays_loss/*\")\n",
    "\n",
    "for f in files:\n",
    "    os.remove(f)"
   ]
  },
  {
   "cell_type": "code",
   "execution_count": null,
   "metadata": {},
   "outputs": [],
   "source": [
    "!ls -la \"/home/jupyter/arrays_loss\""
   ]
  },
  {
   "cell_type": "code",
   "execution_count": null,
   "metadata": {},
   "outputs": [],
   "source": [
    "shutil.rmtree(\"/home/jupyter/arrays_loss/.ipynb_checkpoints\")"
   ]
  },
  {
   "cell_type": "markdown",
   "metadata": {
    "id": "3lqCTXTdpnD-"
   },
   "source": [
    "# **RELLENAR CARPETAS**"
   ]
  },
  {
   "cell_type": "code",
   "execution_count": 112,
   "metadata": {
    "id": "ilJqqScSdIQn"
   },
   "outputs": [],
   "source": [
    "#Descargamos el set de datos subido previamente al Google Drive (Tarda menos que descargarlo directamente de la página).\n",
    "path_train = \"/home/jupyter/dataset/UNSW_NB15_training-set.csv\"\n",
    "path_test = \"/home/jupyter/dataset/UNSW_NB15_testing-set.csv\"\n",
    "\n",
    "#Leemos los datos\n",
    "df_train=pd.read_csv(path_train,dtype='unicode')\n",
    "df_test=pd.read_csv(path_test,dtype='unicode')\n",
    "\n",
    "#Quitamos las columnas no necesarias [trainingset]\n",
    "df_train.drop('id', axis=1, inplace=True)\n",
    "#df_train.drop('attack_cat', axis=1, inplace=True)\n",
    "\n",
    "#Quitamos las columnas no necesarias [testset]\n",
    "df_test.drop('id', axis=1, inplace=True)\n",
    "#df_test.drop('attack_cat', axis=1, inplace=True)"
   ]
  },
  {
   "cell_type": "code",
   "execution_count": 113,
   "metadata": {
    "id": "xhDayPhNBs-c"
   },
   "outputs": [],
   "source": [
    "#Concatenamos el set de entrenamiento y el de test para manipular directamente el conjunto.\n",
    "df = pd.concat([df_train,df_test],axis=0)"
   ]
  },
  {
   "cell_type": "code",
   "execution_count": 114,
   "metadata": {
    "id": "Bxp4RY9M27Lu"
   },
   "outputs": [],
   "source": [
    "df = df[df['label'] == '0']\n",
    "\n",
    "#df = df.sample(44525) # Exploits\n",
    "\n",
    "#df = df.sample(16353) # DoS\n",
    "\n",
    "#df = df.sample(174) # Worms\n",
    "\n",
    "#df = df[df['attack_cat'] == 'Exploits'] # si el label es 1 se mete en ataque\n",
    "\n",
    "#df = df.sample(200) # Worms"
   ]
  },
  {
   "cell_type": "code",
   "execution_count": 115,
   "metadata": {
    "colab": {
     "base_uri": "https://localhost:8080/",
     "height": 118
    },
    "id": "eYw3fPlNBtDv",
    "outputId": "c704d108-0878-4761-872a-411761c66e85"
   },
   "outputs": [
    {
     "name": "stdout",
     "output_type": "stream",
     "text": [
      "Shape of dataFrame: (93000, 44) \n",
      "\n",
      "Number of attack samples\n"
     ]
    },
    {
     "data": {
      "text/plain": [
       "0    93000\n",
       "Name: label, dtype: int64"
      ]
     },
     "metadata": {},
     "output_type": "display_data"
    },
    {
     "name": "stdout",
     "output_type": "stream",
     "text": [
      "\n"
     ]
    }
   ],
   "source": [
    "# DATASET DESPUES DE QUITAR INSTANCIAS DE LA CLASE ATAQUE\n",
    "\n",
    "#Visualización en una gráfica circular del peso de cada clase\n",
    "\n",
    "print(\"Shape of dataFrame: {} \\n\".format(df.shape)) #cuantas filas y cuantas columnas tiene el dataset\n",
    "\n",
    "print(\"Number of attack samples\")\n",
    "display(df['label'].value_counts()) #cuantas filas hay con label=0 (normal) y label=1 (ataque)\n",
    "print(\"\")\n"
   ]
  },
  {
   "cell_type": "code",
   "execution_count": 116,
   "metadata": {
    "id": "F8GyxFhhkTyR"
   },
   "outputs": [],
   "source": [
    "#Conversión de los datos tipo string a enteros en un rango entre 0 y 255 (1 Byte de información)\n",
    "def encode_string_byte (df,name):\n",
    "  df[name] = LabelEncoder().fit_transform(df[name])\n",
    " \n",
    "#3 atributos\n",
    "encode_string_byte (df,'proto')\n",
    "encode_string_byte (df,'state') \n",
    "encode_string_byte (df,'service') "
   ]
  },
  {
   "cell_type": "code",
   "execution_count": 117,
   "metadata": {
    "id": "ZWFV0AcMBtF8"
   },
   "outputs": [],
   "source": [
    "#Normalización de los números enteros en valores decimales en rango entre 0 y 1\n",
    "def numerical_minmax_normalization (df, name):\n",
    "  x = df[name].values.reshape(-1,1)\n",
    "  min_max_scaler = preprocessing.MinMaxScaler()\n",
    "  x_scaled = min_max_scaler.fit_transform(x)\n",
    "  df[name] = x_scaled\n",
    "\n",
    "#38 atributos\n",
    "numerical_minmax_normalization(df,'dur')\n",
    "numerical_minmax_normalization(df,'spkts')\n",
    "numerical_minmax_normalization(df,'dpkts')\n",
    "numerical_minmax_normalization(df,'sbytes')\n",
    "numerical_minmax_normalization(df,'dbytes')\n",
    "numerical_minmax_normalization(df,'rate')\n",
    "numerical_minmax_normalization(df,'sttl')\n",
    "numerical_minmax_normalization(df,'dttl')\n",
    "numerical_minmax_normalization(df,'sload')\n",
    "numerical_minmax_normalization(df,'dload')\n",
    "numerical_minmax_normalization(df,'sloss')\n",
    "numerical_minmax_normalization(df,'dloss')\n",
    "numerical_minmax_normalization(df,'sinpkt')\n",
    "numerical_minmax_normalization(df,'dinpkt')\n",
    "numerical_minmax_normalization(df,'sjit')\n",
    "numerical_minmax_normalization(df,'djit')\n",
    "numerical_minmax_normalization(df,'swin')\n",
    "numerical_minmax_normalization(df,'stcpb')\n",
    "numerical_minmax_normalization(df,'dtcpb')\n",
    "numerical_minmax_normalization(df,'dwin')\n",
    "numerical_minmax_normalization(df,'tcprtt')\n",
    "numerical_minmax_normalization(df,'synack')\n",
    "numerical_minmax_normalization(df,'ackdat')\n",
    "numerical_minmax_normalization(df,'smean')\n",
    "numerical_minmax_normalization(df,'dmean')\n",
    "numerical_minmax_normalization(df,'trans_depth')\n",
    "numerical_minmax_normalization(df,'response_body_len')\n",
    "numerical_minmax_normalization(df,'ct_srv_src')\n",
    "numerical_minmax_normalization(df,'ct_state_ttl')\n",
    "numerical_minmax_normalization(df,'ct_dst_ltm')\n",
    "numerical_minmax_normalization(df,'ct_src_dport_ltm')\n",
    "numerical_minmax_normalization(df,'ct_dst_sport_ltm')\n",
    "numerical_minmax_normalization(df,'ct_dst_src_ltm')\n",
    "numerical_minmax_normalization(df,'is_ftp_login')\n",
    "numerical_minmax_normalization(df,'ct_ftp_cmd')\n",
    "numerical_minmax_normalization(df,'ct_flw_http_mthd')\n",
    "numerical_minmax_normalization(df,'ct_src_ltm')\n",
    "numerical_minmax_normalization(df,'ct_srv_dst')\n",
    "numerical_minmax_normalization(df,'is_sm_ips_ports')\n",
    "numerical_minmax_normalization(df,'label')"
   ]
  },
  {
   "cell_type": "code",
   "execution_count": 118,
   "metadata": {
    "id": "xElC18PzBtKE"
   },
   "outputs": [],
   "source": [
    "#Mapeo de los valores normalizados del paso anterior a valores enteros entre 0 y 255 (1 Byte de información)\n",
    "def numerical_split_ohe (df,name):\n",
    "  pd_to_np = df[name].tolist()\n",
    "  np_split = []\n",
    "  \n",
    "  categories = np.linspace(0, 1, num=256,endpoint=False)\n",
    "  quantization = range(0,256)\n",
    "\n",
    "  for value in pd_to_np:\n",
    "    for i in range(len(categories)-1):\n",
    "      if (categories[i] <= float(value) <= categories[i+1]):\n",
    "        np_split.append(quantization[i])\n",
    "        break\n",
    "      if (float(value) > categories[-1]):\n",
    "        np_split.append(quantization[-1])\n",
    "        break\n",
    "  \n",
    "  df[name] = np_split\n",
    "\n",
    "#38 atributos\n",
    "numerical_split_ohe(df,'dur')\n",
    "numerical_split_ohe(df,'spkts')\n",
    "numerical_split_ohe(df,'dpkts')\n",
    "numerical_split_ohe(df,'sbytes')\n",
    "numerical_split_ohe(df,'dbytes')\n",
    "numerical_split_ohe(df,'rate')\n",
    "numerical_split_ohe(df,'sttl')\n",
    "numerical_split_ohe(df,'dttl')\n",
    "numerical_split_ohe(df,'sload')\n",
    "numerical_split_ohe(df,'dload')\n",
    "numerical_split_ohe(df,'sloss')\n",
    "numerical_split_ohe(df,'dloss')\n",
    "numerical_split_ohe(df,'sinpkt')\n",
    "numerical_split_ohe(df,'dinpkt')\n",
    "numerical_split_ohe(df,'sjit')\n",
    "numerical_split_ohe(df,'djit')\n",
    "numerical_split_ohe(df,'swin')\n",
    "numerical_split_ohe(df,'stcpb')\n",
    "numerical_split_ohe(df,'dtcpb')\n",
    "numerical_split_ohe(df,'dwin')\n",
    "numerical_split_ohe(df,'tcprtt')\n",
    "numerical_split_ohe(df,'synack')\n",
    "numerical_split_ohe(df,'ackdat')\n",
    "numerical_split_ohe(df,'smean')\n",
    "numerical_split_ohe(df,'dmean')\n",
    "numerical_split_ohe(df,'trans_depth')\n",
    "numerical_split_ohe(df,'response_body_len')\n",
    "numerical_split_ohe(df,'ct_srv_src')\n",
    "numerical_split_ohe(df,'ct_state_ttl')\n",
    "numerical_split_ohe(df,'ct_dst_ltm')\n",
    "numerical_split_ohe(df,'ct_src_dport_ltm')\n",
    "numerical_split_ohe(df,'ct_dst_sport_ltm')\n",
    "numerical_split_ohe(df,'ct_dst_src_ltm')\n",
    "numerical_split_ohe(df,'is_ftp_login')\n",
    "numerical_split_ohe(df,'ct_ftp_cmd')\n",
    "numerical_split_ohe(df,'ct_flw_http_mthd')\n",
    "numerical_split_ohe(df,'ct_src_ltm')\n",
    "numerical_split_ohe(df,'ct_srv_dst')\n",
    "numerical_split_ohe(df,'is_sm_ips_ports')\n",
    "numerical_split_ohe(df,'label')"
   ]
  },
  {
   "cell_type": "code",
   "execution_count": 119,
   "metadata": {
    "id": "DlYHxzb6BtMF"
   },
   "outputs": [],
   "source": [
    "#Quitando la columna label y attack_cat\n",
    "\n",
    "df.drop('label',axis=1,inplace=True) #elimina la columna label\n",
    "df.drop('attack_cat', axis=1, inplace=True)\n"
   ]
  },
  {
   "cell_type": "code",
   "execution_count": 120,
   "metadata": {
    "colab": {
     "base_uri": "https://localhost:8080/"
    },
    "id": "XjtjjdGFdIUW",
    "outputId": "6f49e855-662f-4ab5-d803-3d470fc783a2"
   },
   "outputs": [
    {
     "name": "stdout",
     "output_type": "stream",
     "text": [
      "Shape of dataFrame: (93000, 42) \n",
      "\n"
     ]
    }
   ],
   "source": [
    "print(\"Shape of dataFrame: {} \\n\".format(df.shape))\n",
    "\n",
    "#df.describe(include = 'all')"
   ]
  },
  {
   "cell_type": "code",
   "execution_count": 121,
   "metadata": {
    "colab": {
     "base_uri": "https://localhost:8080/"
    },
    "id": "LKwIwji2dIWg",
    "outputId": "3a581f20-1e30-4fa9-f094-6bbefaa5fcdc"
   },
   "outputs": [
    {
     "name": "stdout",
     "output_type": "stream",
     "text": [
      "[  0   6   0   4   0   0   1   0  31 254   0  42   0   0   0   0   0   0\n",
      "   0   0   0   0   0   0   0   0 148   0   0   0   4  85   0   0   0   4\n",
      "   0   0   0   0   4   0   0   0   0   0   0   0   0   0   0   0   0   0\n",
      "   0   0   0   0   0   0   0   0   0   0]\n",
      "\n",
      "[  0   6   0   4   0   0   0   0  51 254   0  40   0   0   0   0   0   0\n",
      "   0   0   0   0   0   0   0   0  87   0   0   0   8  85   0   0   0   8\n",
      "   0   0   0   0   8   0   0   0   0   0   0   0   0   0   0   0   0   0\n",
      "   0   0   0   0   0   0   0   0   0   0]\n"
     ]
    }
   ],
   "source": [
    "#Padding para que cada fila de datos tenga 784 valores (y luego convertirla a imagen 28x28).       42 columnas + 742 columnas añadidas con ceros = 784 columnas totales               #### 741 , 28x28\n",
    "byte_images = np.pad(df.to_numpy(), ((0,0),(0,22)), 'constant')     # byte_images = dataset con todos los numeros entre 0 y 255 y con las columnas de ceros añadidas\n",
    "\n",
    "print(byte_images[1])\n",
    "print()\n",
    "print(byte_images[2])\n"
   ]
  },
  {
   "cell_type": "code",
   "execution_count": 90,
   "metadata": {
    "colab": {
     "base_uri": "https://localhost:8080/"
    },
    "id": "GUiRh2oYn7Xe",
    "outputId": "b88ed82c-9e33-4ca2-b7e2-58cf4e94410b"
   },
   "outputs": [
    {
     "data": {
      "text/plain": [
       "20"
      ]
     },
     "execution_count": 90,
     "metadata": {},
     "output_type": "execute_result"
    }
   ],
   "source": [
    "df.shape[0]"
   ]
  },
  {
   "cell_type": "markdown",
   "metadata": {
    "id": "CM-14UDSpB97"
   },
   "source": [
    "# **ATAQUES**"
   ]
  },
  {
   "cell_type": "code",
   "execution_count": 110,
   "metadata": {
    "id": "eIFH63bMmi6F"
   },
   "outputs": [],
   "source": [
    "numero_imagenes_creadas = df.shape[0] #cuantas imagenes quieres pasar del dataset a la carpeta de drive // las imagenes son dimension 8x8\n",
    "\n",
    "for i in np.arange(numero_imagenes_creadas):\n",
    "  grayImage = byte_images[i].reshape(8,8)\n",
    "\n",
    "  #train clasificador\n",
    "  plt.imsave('/home/jupyter/imagenes_entrenamiento_clasificador/train/ataques_reales/generada_{i}.png'.format(i=i), grayImage, cmap=\"gray\")\n",
    "\n",
    "  #test clasificador\n",
    "  #plt.imsave('/home/jupyter/imagenes_entrenamiento_clasificador/test/ataques_generados/generada_{i}.png'.format(i=i), grayImage, cmap=\"gray\")\n",
    "    \n",
    "  #entrenamiento generador\n",
    "  #plt.imsave(\"/home/jupyter/imagenes_entrenamiento_generador/img/imagen_{i}.png\".format(i=i), grayImage, cmap=\"gray\")\n",
    "    \n"
   ]
  },
  {
   "cell_type": "code",
   "execution_count": 108,
   "metadata": {},
   "outputs": [
    {
     "name": "stdout",
     "output_type": "stream",
     "text": [
      "44525\n"
     ]
    }
   ],
   "source": [
    "img_folder_path = '/home/jupyter/imagenes_entrenamiento_generador/img/'\n",
    "dirListing = os.listdir(img_folder_path)\n",
    "\n",
    "print(len(dirListing)) # cuantas imagenes hay en la carpeta"
   ]
  },
  {
   "cell_type": "code",
   "execution_count": 111,
   "metadata": {},
   "outputs": [
    {
     "name": "stdout",
     "output_type": "stream",
     "text": [
      "200\n"
     ]
    }
   ],
   "source": [
    "img_folder_path = '/home/jupyter/imagenes_entrenamiento_clasificador/train/ataques_reales'\n",
    "dirListing = os.listdir(img_folder_path)\n",
    "\n",
    "print(len(dirListing)) # cuantas imagenes hay en la carpeta"
   ]
  },
  {
   "cell_type": "markdown",
   "metadata": {
    "id": "W9V0zvVVpFaH"
   },
   "source": [
    "# **NORMALES**\n"
   ]
  },
  {
   "cell_type": "code",
   "execution_count": 127,
   "metadata": {},
   "outputs": [
    {
     "name": "stdout",
     "output_type": "stream",
     "text": [
      "93000\n"
     ]
    }
   ],
   "source": [
    "img_folder_path = '/home/jupyter/imagenes_entrenamiento_clasificador/train/normal'\n",
    "dirListing = os.listdir(img_folder_path)\n",
    "\n",
    "print(len(dirListing)) # cuantas imagenes hay en la carpeta"
   ]
  },
  {
   "cell_type": "code",
   "execution_count": null,
   "metadata": {},
   "outputs": [],
   "source": [
    "img_folder_path = '/home/jupyter/imagenes_entrenamiento_clasificador/test/normal'\n",
    "dirListing = os.listdir(img_folder_path)\n",
    "\n",
    "print(len(dirListing)) # cuantas imagenes hay en la carpeta"
   ]
  },
  {
   "cell_type": "markdown",
   "metadata": {},
   "source": [
    "**RELLENAR**"
   ]
  },
  {
   "cell_type": "code",
   "execution_count": 124,
   "metadata": {
    "id": "zoMcdk6zoj46"
   },
   "outputs": [],
   "source": [
    "numero_imagenes_creadas = df.shape[0] #cuantas imagenes quieres pasar del dataset a la carpeta de drive // las imagenes son dimension 8x8\n",
    "\n",
    "for i in np.arange(numero_imagenes_creadas):\n",
    "  grayImage = byte_images[i].reshape(8,8)\n",
    "\n",
    "  plt.imsave('/home/jupyter/imagenes_entrenamiento_clasificador/train/normal/imagen_{i}.png'.format(i=i), grayImage, cmap=\"gray\")\n",
    "  #plt.imsave('/home/jupyter/imagenes_entrenamiento_clasificador/test/normal/imagen_{i}.png'.format(i=i), grayImage, cmap=\"gray\")\n"
   ]
  },
  {
   "cell_type": "code",
   "execution_count": null,
   "metadata": {
    "id": "evsFnee5okBG"
   },
   "outputs": [],
   "source": []
  },
  {
   "cell_type": "code",
   "execution_count": null,
   "metadata": {
    "id": "2Pd6mn5ZokMC"
   },
   "outputs": [],
   "source": []
  },
  {
   "cell_type": "code",
   "execution_count": null,
   "metadata": {
    "id": "ZqTsajIUpsqG"
   },
   "outputs": [],
   "source": []
  },
  {
   "cell_type": "code",
   "execution_count": null,
   "metadata": {
    "id": "MEaYFKXdpssL"
   },
   "outputs": [],
   "source": []
  },
  {
   "cell_type": "markdown",
   "metadata": {
    "id": "3P7uzqpApsu1"
   },
   "source": [
    "# **CREAR ATAQUES GENERADOS**"
   ]
  },
  {
   "cell_type": "code",
   "execution_count": null,
   "metadata": {
    "id": "lpEKRg3qm477"
   },
   "outputs": [],
   "source": [
    "class generator(nn.Module):\n",
    "\n",
    "    def __init__(self, dim_in, dim=16): # por defecto     dim = 64     ### CONSTRUCTOR DEL GENERADOR\n",
    "        super(generator,self).__init__()\n",
    "\n",
    "        #--------------------------------------#\n",
    "        #--------------------------------------#\n",
    "\n",
    "        def genblock(dim_in, dim_out, kernel): \n",
    "            block = nn.Sequential( nn.ConvTranspose2d(in_channels = dim_in, \n",
    "                                                      out_channels = dim_out,\n",
    "                                                      kernel_size = kernel, # por defecto 5 \n",
    "                                                      stride=2, \n",
    "                                                      padding=2,\n",
    "                                                      output_padding = 1,\n",
    "                                                      bias = False),\n",
    "                                                      nn.BatchNorm2d(dim_out),\n",
    "                                                      nn.ReLU()\n",
    "                                                      )\n",
    "            return block\n",
    "\n",
    "        def genimg(dim_in, kernel):\n",
    "            block = nn.Sequential( nn.ConvTranspose2d(in_channels = dim_in, \n",
    "                                                      out_channels = 1, # por defecto 3\n",
    "                                                      kernel_size = kernel, # por defecto 5 \n",
    "                                                      stride=2, \n",
    "                                                      padding=2,\n",
    "                                                      output_padding = 1,\n",
    "                                                      ),\n",
    "                                                      nn.Tanh()\n",
    "                                                      )\n",
    "            return block\n",
    "        \n",
    "\n",
    "\n",
    "        \"\"\"\n",
    "        self.prepare = nn.Sequential(nn.Linear(dim_in, dim*8*4*4, bias=False),\n",
    "                                     nn.BatchNorm1d(dim*8*4*4),\n",
    "                                     nn.ReLU())\n",
    "        \n",
    "        self.generate = nn.Sequential(genblock(dim*8, dim*4),\n",
    "                                      genblock(dim*4, dim*2),\n",
    "                                      genblock(dim*2, dim),\n",
    "\n",
    "                                      genimg(dim))\n",
    "        \"\"\"\n",
    "\n",
    "        #--------------------------------------#\n",
    "\n",
    "        self.prepare = nn.Sequential(nn.Linear(50, 1024, bias=False),\n",
    "                                     nn.BatchNorm1d(1024),\n",
    "                                     nn.ReLU())\n",
    "        \n",
    "        self.generate = nn.Sequential(genblock(64, 32, 1),\n",
    "                                      genblock(32, 16,  1),\n",
    "                                      genblock(16, 8,  2),\n",
    "\n",
    "                                      genimg(8,        3))\n",
    "        \n",
    "\n",
    "        #--------------------------------------#\n",
    "        #--------------------------------------#\n",
    "\n",
    "    def forward(self, x):\n",
    "\n",
    "        #print(\"!!!------------------------esto es forward generador---\")\n",
    "        #print(x.size())\n",
    "        #print()\n",
    "        \n",
    "        x = self.prepare(x)\n",
    "        x = x.view(x.size(0), -1,4,4)\n",
    "        x = self.generate(x)\n",
    "\n",
    "        #print(\"!!!------------------------esto es final forward generador---\")\n",
    "\n",
    "        return x\n",
    "\n",
    "\n",
    "\n",
    "\n",
    "\n",
    "class critic(nn.Module):\n",
    "    def __init__(self, dim_in, dim=8): # por defecto     dim = 64        ### CONSTRUCTOR DEL DISCRIMINADOR\n",
    "        super(critic, self).__init__()\n",
    "        \n",
    "        def critic_block(dim_in , dim_out, kernel):\n",
    "            block = nn.Sequential(nn.Conv2d(in_channels = dim_in, \n",
    "                                            out_channels = dim_out,\n",
    "                                            kernel_size = kernel, # por defecto 5 \n",
    "                                            stride=2, \n",
    "                                            padding=2),\n",
    "                                            nn.InstanceNorm2d(dim_out, affine= True),\n",
    "                                            nn.LeakyReLU(0.2))\n",
    "            return block\n",
    "\n",
    "        #--------------------------------------#\n",
    "        #--------------------------------------#\n",
    "\n",
    "        self.analyze = nn.Sequential(nn.Conv2d(in_channels = dim_in, \n",
    "                                               out_channels = dim, \n",
    "                                               kernel_size = 1, # por defecto 5  \n",
    "                                               stride=2, \n",
    "                                               padding=2),\n",
    "                                      \n",
    "                                     nn.LeakyReLU(0.2),\n",
    "\n",
    "                                     critic_block(dim,dim*2, 2),\n",
    "                                     critic_block(dim*2,dim*4, 2),\n",
    "                                     critic_block(dim*4, dim*8, 2),\n",
    "                                     \n",
    "                                     nn.Conv2d(in_channels=dim*8, \n",
    "                                               out_channels=1,\n",
    "                                               kernel_size=2)) # por defecto    kernel_size = 4\n",
    "\n",
    "        #--------------------------------------#\n",
    "        #--------------------------------------#    \n",
    "    \n",
    "    def forward(self,x):\n",
    "        x = self.analyze(x)\n",
    "        x = x.view(-1)\n",
    "\n",
    "        return x"
   ]
  },
  {
   "cell_type": "code",
   "execution_count": null,
   "metadata": {
    "id": "tMoIEkL5nCrH"
   },
   "outputs": [],
   "source": [
    "def load_checkpoint(ckpt_dir_or_file, map_location=None, load_best=False):\n",
    "    if os.path.isdir(ckpt_dir_or_file):\n",
    "        if load_best:\n",
    "            ckpt_path = os.path.join(ckpt_dir_or_file, 'best_model.ckpt')\n",
    "        else:\n",
    "            with open(os.path.join(ckpt_dir_or_file, 'latest_checkpoint')) as f:\n",
    "                ckpt_path = os.path.join(ckpt_dir_or_file, f.readline()[:-1])\n",
    "    else:\n",
    "        ckpt_path = ckpt_dir_or_file\n",
    "    ckpt = torch.load(ckpt_path, map_location=map_location)\n",
    "    print(' [*] Loading checkpoint from %s succeed!' % ckpt_path)\n",
    "    return ckpt\n"
   ]
  },
  {
   "cell_type": "code",
   "execution_count": null,
   "metadata": {
    "id": "Mek8BVcrBjGR"
   },
   "outputs": [],
   "source": [
    "z_dim = 50\n",
    "lr=0.0002\n",
    "\n",
    "G = generator(z_dim)\n",
    "\n",
    "G_opt = torch.optim.Adam(G.parameters(), lr=lr, betas=(0.5,0.999))"
   ]
  },
  {
   "cell_type": "code",
   "execution_count": null,
   "metadata": {
    "colab": {
     "base_uri": "https://localhost:8080/"
    },
    "id": "r4dPTFZeofsD",
    "outputId": "d83a067d-3cf2-4276-b96b-3d688f0199fd"
   },
   "outputs": [],
   "source": [
    "checkpoint = '/home/jupyter/checkpoint'\n",
    "#save_dir = '/home/jupyter/imagenes_entrenamiento_clasificador/test/ataques_generados' # carpeta para guardar la imagenes que va sacando en los epoch\n",
    "\n",
    "save_dir = '/home/jupyter/imagenes_entrenamiento_clasificador/train/ataques_reales'\n",
    "\n",
    "\n",
    "\n",
    "if not isinstance(checkpoint, (list, tuple)):\n",
    "    paths = [checkpoint]\n",
    "    for path in paths:\n",
    "        if not os.path.isdir(path):\n",
    "            os.makedirs(path)\n",
    "if not isinstance(save_dir, (list, tuple)):\n",
    "    paths = [save_dir]\n",
    "    for path in paths:\n",
    "        if not os.path.isdir(path):\n",
    "            os.makedirs(path)\n",
    "try:\n",
    "    print(' [*] SI checkpoint!')\n",
    "    ckpt = load_checkpoint(checkpoint)\n",
    "    #start_epoch = ckpt['epoch']\n",
    "    #C.load_state_dict(ckpt['D'])\n",
    "    G.load_state_dict(ckpt['G'])\n",
    "    print(' [*] SI checkpoint!')\n",
    "    #C_opt.load_state_dict(ckpt['d_optimizer'])\n",
    "    G_opt.load_state_dict(ckpt['g_optimizer'])\n",
    "    print(' [*] SI checkpoint!')\n",
    "except:\n",
    "    print(' [*] NO checkpoint!')\n",
    "    start_epoch = 0\n",
    "\n"
   ]
  },
  {
   "cell_type": "code",
   "execution_count": null,
   "metadata": {},
   "outputs": [],
   "source": []
  },
  {
   "cell_type": "code",
   "execution_count": null,
   "metadata": {},
   "outputs": [],
   "source": []
  },
  {
   "cell_type": "code",
   "execution_count": null,
   "metadata": {},
   "outputs": [],
   "source": []
  },
  {
   "cell_type": "code",
   "execution_count": null,
   "metadata": {
    "colab": {
     "base_uri": "https://localhost:8080/",
     "height": 163
    },
    "id": "v7191ZVSsxxX",
    "outputId": "823ca3ae-6c84-4498-8776-7d79040f9b46"
   },
   "outputs": [],
   "source": [
    "df.shape[0]"
   ]
  },
  {
   "cell_type": "code",
   "execution_count": null,
   "metadata": {
    "id": "VcnTD5to-FuL"
   },
   "outputs": [],
   "source": [
    "#instancias_nuevas = df.shape[0]\n",
    "#instancias_nuevas = 44525\n",
    "\n",
    "instancias_nuevas = 48475\n",
    "\n",
    "#z = Variable(torch.randn(instancias_nuevas, z_dim)) # vector de ruido\n",
    "\n",
    "for i in range(instancias_nuevas):\n",
    "\n",
    "    z_sample = Variable(torch.randn(1, z_dim))\n",
    "\n",
    "    G.eval()\n",
    "    fake_gen_images = G(z_sample) # no se ven bien las imagenes generadas\n",
    "    #fake_gen_images = (G(z_sample).data +1)/2.0\n",
    "\n",
    "    torchvision.utils.save_image(fake_gen_images, save_dir+'/generadaA'+str(i+1)+\".png\",nrow=1) # n_row = numero de columnas \n"
   ]
  },
  {
   "cell_type": "code",
   "execution_count": null,
   "metadata": {},
   "outputs": [],
   "source": []
  },
  {
   "cell_type": "code",
   "execution_count": null,
   "metadata": {},
   "outputs": [],
   "source": [
    "img_folder_path = '/home/jupyter/imagenes_entrenamiento_clasificador/test/ataques_generados'\n",
    "dirListing = os.listdir(img_folder_path)\n",
    "\n",
    "print(len(dirListing)) # cuantas imagenes hay en la carpeta\n",
    "\n"
   ]
  },
  {
   "cell_type": "code",
   "execution_count": null,
   "metadata": {},
   "outputs": [],
   "source": []
  },
  {
   "cell_type": "code",
   "execution_count": null,
   "metadata": {},
   "outputs": [],
   "source": [
    "!tar chvfz ataques_generados.tar.gz '/home/jupyter/imagenes_entrenamiento_clasificador/test/ataques_generados'"
   ]
  },
  {
   "cell_type": "code",
   "execution_count": null,
   "metadata": {},
   "outputs": [],
   "source": []
  },
  {
   "cell_type": "code",
   "execution_count": null,
   "metadata": {},
   "outputs": [],
   "source": [
    "!ls"
   ]
  },
  {
   "cell_type": "code",
   "execution_count": null,
   "metadata": {},
   "outputs": [],
   "source": []
  },
  {
   "cell_type": "code",
   "execution_count": null,
   "metadata": {},
   "outputs": [],
   "source": [
    "!tar chvfz archivos_generador.tar.gz \"/home/jupyter/imagenes_epoch\" \"/home/jupyter/graficas_entrenamiento_generador\" \"/home/jupyter/checkpoint\""
   ]
  },
  {
   "cell_type": "code",
   "execution_count": null,
   "metadata": {},
   "outputs": [],
   "source": [
    "!tar chvfz graficas.tar.gz \"/home/jupyter/graficas_entrenamiento_generador\""
   ]
  },
  {
   "cell_type": "code",
   "execution_count": null,
   "metadata": {},
   "outputs": [],
   "source": []
  },
  {
   "cell_type": "code",
   "execution_count": null,
   "metadata": {},
   "outputs": [],
   "source": []
  },
  {
   "cell_type": "code",
   "execution_count": null,
   "metadata": {},
   "outputs": [],
   "source": []
  },
  {
   "cell_type": "code",
   "execution_count": null,
   "metadata": {},
   "outputs": [],
   "source": [
    "!tar chvfz archivos_generador.tar.gz \"/home/jupyter/modelo_clasificador_entrenado_graficas\""
   ]
  },
  {
   "cell_type": "code",
   "execution_count": null,
   "metadata": {},
   "outputs": [],
   "source": []
  }
 ],
 "metadata": {
  "colab": {
   "name": "pre-clasificador.ipynb",
   "provenance": []
  },
  "environment": {
   "name": "pytorch-gpu.1-8.m71",
   "type": "gcloud",
   "uri": "gcr.io/deeplearning-platform-release/pytorch-gpu.1-8:m71"
  },
  "kernelspec": {
   "display_name": "Python 3",
   "language": "python",
   "name": "python3"
  },
  "language_info": {
   "codemirror_mode": {
    "name": "ipython",
    "version": 3
   },
   "file_extension": ".py",
   "mimetype": "text/x-python",
   "name": "python",
   "nbconvert_exporter": "python",
   "pygments_lexer": "ipython3",
   "version": "3.7.10"
  }
 },
 "nbformat": 4,
 "nbformat_minor": 4
}
